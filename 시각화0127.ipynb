{
  "nbformat": 4,
  "nbformat_minor": 0,
  "metadata": {
    "colab": {
      "name": "시각화0127.ipynb",
      "provenance": [],
      "collapsed_sections": [],
      "toc_visible": true,
      "authorship_tag": "ABX9TyPxN6rri1I7dELQWY0g3vmO",
      "include_colab_link": true
    },
    "kernelspec": {
      "name": "python3",
      "display_name": "Python 3"
    },
    "language_info": {
      "name": "python"
    }
  },
  "cells": [
    {
      "cell_type": "markdown",
      "metadata": {
        "id": "view-in-github",
        "colab_type": "text"
      },
      "source": [
        "<a href=\"https://colab.research.google.com/github/KRiver28/prac/blob/master/%EC%8B%9C%EA%B0%81%ED%99%940127.ipynb\" target=\"_parent\"><img src=\"https://colab.research.google.com/assets/colab-badge.svg\" alt=\"Open In Colab\"/></a>"
      ]
    },
    {
      "cell_type": "markdown",
      "source": [
        "#1.환경설정"
      ],
      "metadata": {
        "id": "sk5QZupNFo4Z"
      }
    },
    {
      "cell_type": "code",
      "execution_count": 129,
      "metadata": {
        "colab": {
          "base_uri": "https://localhost:8080/"
        },
        "id": "_Ls6mrAeDzLF",
        "outputId": "0220de56-c67f-4810-8655-17174a34e231"
      },
      "outputs": [
        {
          "output_type": "stream",
          "name": "stdout",
          "text": [
            "Reading package lists... Done\n",
            "Building dependency tree       \n",
            "Reading state information... Done\n",
            "fonts-nanum is already the newest version (20170925-1).\n",
            "0 upgraded, 0 newly installed, 0 to remove and 37 not upgraded.\n"
          ]
        }
      ],
      "source": [
        "!sudo apt-get install -y fonts-nanum"
      ]
    },
    {
      "cell_type": "code",
      "source": [
        "!sudo fc-cache -fv\n",
        "!rm ~/.cache/matplotlib -rf"
      ],
      "metadata": {
        "colab": {
          "base_uri": "https://localhost:8080/"
        },
        "id": "6fFp51uHGLW3",
        "outputId": "33b0c8ff-c09d-424f-efb3-23b81b20bdd3"
      },
      "execution_count": 130,
      "outputs": [
        {
          "output_type": "stream",
          "name": "stdout",
          "text": [
            "/usr/share/fonts: caching, new cache contents: 0 fonts, 1 dirs\n",
            "/usr/share/fonts/truetype: caching, new cache contents: 0 fonts, 3 dirs\n",
            "/usr/share/fonts/truetype/humor-sans: caching, new cache contents: 1 fonts, 0 dirs\n",
            "/usr/share/fonts/truetype/liberation: caching, new cache contents: 16 fonts, 0 dirs\n",
            "/usr/share/fonts/truetype/nanum: caching, new cache contents: 10 fonts, 0 dirs\n",
            "/usr/local/share/fonts: caching, new cache contents: 0 fonts, 0 dirs\n",
            "/root/.local/share/fonts: skipping, no such directory\n",
            "/root/.fonts: skipping, no such directory\n",
            "/var/cache/fontconfig: cleaning cache directory\n",
            "/root/.cache/fontconfig: not cleaning non-existent cache directory\n",
            "/root/.fontconfig: not cleaning non-existent cache directory\n",
            "fc-cache: succeeded\n"
          ]
        }
      ]
    },
    {
      "cell_type": "code",
      "source": [
        "import pandas as pd\n",
        "import matplotlib.pyplot as plt\n",
        "import numpy as np\n",
        "import matplotlib"
      ],
      "metadata": {
        "id": "XVE16YDwG_xR"
      },
      "execution_count": 131,
      "outputs": []
    },
    {
      "cell_type": "code",
      "source": [
        "#한글설정\n",
        "matplotlib.rcParams['font.family']='NanumGothic'"
      ],
      "metadata": {
        "id": "_VEvvfbPG-n1"
      },
      "execution_count": 6,
      "outputs": []
    },
    {
      "cell_type": "code",
      "source": [
        "matplotlib.rcParams['font.family']"
      ],
      "metadata": {
        "colab": {
          "base_uri": "https://localhost:8080/"
        },
        "id": "_DtoaIVkHj5e",
        "outputId": "7038209b-177a-4764-a12c-9edc8f8fad90"
      },
      "execution_count": 7,
      "outputs": [
        {
          "output_type": "execute_result",
          "data": {
            "text/plain": [
              "['NanumGothic']"
            ]
          },
          "metadata": {},
          "execution_count": 7
        }
      ]
    },
    {
      "cell_type": "code",
      "source": [
        "#마이너스 기호 설정\n",
        "matplotlib.rcParams['axes.unicode_minus']=False"
      ],
      "metadata": {
        "id": "-alDeYn4HkyX"
      },
      "execution_count": 8,
      "outputs": []
    },
    {
      "cell_type": "code",
      "source": [
        "plt.style.available"
      ],
      "metadata": {
        "colab": {
          "base_uri": "https://localhost:8080/"
        },
        "id": "2rME9anSIHx_",
        "outputId": "91d8bf19-3266-4a26-8ec7-5d8475507b55"
      },
      "execution_count": 9,
      "outputs": [
        {
          "output_type": "execute_result",
          "data": {
            "text/plain": [
              "['Solarize_Light2',\n",
              " '_classic_test_patch',\n",
              " 'bmh',\n",
              " 'classic',\n",
              " 'dark_background',\n",
              " 'fast',\n",
              " 'fivethirtyeight',\n",
              " 'ggplot',\n",
              " 'grayscale',\n",
              " 'seaborn',\n",
              " 'seaborn-bright',\n",
              " 'seaborn-colorblind',\n",
              " 'seaborn-dark',\n",
              " 'seaborn-dark-palette',\n",
              " 'seaborn-darkgrid',\n",
              " 'seaborn-deep',\n",
              " 'seaborn-muted',\n",
              " 'seaborn-notebook',\n",
              " 'seaborn-paper',\n",
              " 'seaborn-pastel',\n",
              " 'seaborn-poster',\n",
              " 'seaborn-talk',\n",
              " 'seaborn-ticks',\n",
              " 'seaborn-white',\n",
              " 'seaborn-whitegrid',\n",
              " 'tableau-colorblind10']"
            ]
          },
          "metadata": {},
          "execution_count": 9
        }
      ]
    },
    {
      "cell_type": "markdown",
      "source": [
        "#2.Line plot"
      ],
      "metadata": {
        "id": "35x3kQD-KKek"
      }
    },
    {
      "cell_type": "code",
      "source": [
        "x = np.linspace(0, 10, 100)\n",
        "y = 4 + 2 *  np.sin(2 * x)\n",
        "\n",
        "fig, ax = plt.subplots()\n",
        "ax.set(\n",
        "    xlim=(0,8),\n",
        "    xticks=np.arange(1,8),\n",
        "    ylim=(0,8),\n",
        "    yticks=np.arange(1,8)\n",
        ")\n",
        "ax.plot(x, y, linewidth=2.0)\n"
      ],
      "metadata": {
        "colab": {
          "base_uri": "https://localhost:8080/",
          "height": 282
        },
        "id": "7gLTtYX5ILLO",
        "outputId": "fdc2d7ba-2e40-415e-e400-268ff0eabbb2"
      },
      "execution_count": 18,
      "outputs": [
        {
          "output_type": "execute_result",
          "data": {
            "text/plain": [
              "[<matplotlib.lines.Line2D at 0x7fc78bdb7610>]"
            ]
          },
          "metadata": {},
          "execution_count": 18
        },
        {
          "output_type": "display_data",
          "data": {
            "image/png": "[encoded data removed]",
            "text/plain": [
              "<Figure size 432x288 with 1 Axes>"
            ]
          },
          "metadata": {
            "needs_background": "light"
          }
        }
      ]
    },
    {
      "cell_type": "code",
      "source": [
        "ax.set(\n",
        "    xlim=(0,8),\n",
        "    xticks=np.arange(1,8),\n",
        "    ylim=(0,8),\n",
        "    yticks=np.arange(1,8)\n",
        ")"
      ],
      "metadata": {
        "colab": {
          "base_uri": "https://localhost:8080/"
        },
        "id": "l-jHrZGWKQDW",
        "outputId": "72bb652d-f257-4dc0-fd4b-a4620196d26b"
      },
      "execution_count": 16,
      "outputs": [
        {
          "output_type": "execute_result",
          "data": {
            "text/plain": [
              "[[<matplotlib.axis.YTick at 0x7fc78be92b90>,\n",
              "  <matplotlib.axis.YTick at 0x7fc78beaa410>,\n",
              "  <matplotlib.axis.YTick at 0x7fc78be7f190>,\n",
              "  <matplotlib.axis.YTick at 0x7fc78be6f590>,\n",
              "  <matplotlib.axis.YTick at 0x7fc78be69ed0>,\n",
              "  <matplotlib.axis.YTick at 0x7fc78be08590>,\n",
              "  <matplotlib.axis.YTick at 0x7fc78be08b10>],\n",
              " (0.0, 8.0),\n",
              " [<matplotlib.axis.XTick at 0x7fc78bec0e50>,\n",
              "  <matplotlib.axis.XTick at 0x7fc78bec0e10>,\n",
              "  <matplotlib.axis.XTick at 0x7fc78beb6290>,\n",
              "  <matplotlib.axis.XTick at 0x7fc78be6f050>,\n",
              "  <matplotlib.axis.XTick at 0x7fc78be6f810>,\n",
              "  <matplotlib.axis.XTick at 0x7fc78be6fd50>,\n",
              "  <matplotlib.axis.XTick at 0x7fc78be75390>],\n",
              " (0.0, 8.0)]"
            ]
          },
          "metadata": {},
          "execution_count": 16
        }
      ]
    },
    {
      "cell_type": "code",
      "source": [
        "s=pd.Series(np.random.rand(10).cumsum(),\n",
        "            index = np.arange(1,100,10))\n",
        "s"
      ],
      "metadata": {
        "colab": {
          "base_uri": "https://localhost:8080/"
        },
        "id": "4KQbPPk3KQxm",
        "outputId": "8b347143-c79c-4b86-9fe0-538b6065843b"
      },
      "execution_count": 19,
      "outputs": [
        {
          "output_type": "execute_result",
          "data": {
            "text/plain": [
              "1     0.439750\n",
              "11    0.913461\n",
              "21    1.141633\n",
              "31    1.492171\n",
              "41    2.215205\n",
              "51    2.716207\n",
              "61    3.449489\n",
              "71    3.729977\n",
              "81    4.683644\n",
              "91    5.549758\n",
              "dtype: float64"
            ]
          },
          "metadata": {},
          "execution_count": 19
        }
      ]
    },
    {
      "cell_type": "code",
      "source": [
        "s.plot(figsize=(10,10))"
      ],
      "metadata": {
        "colab": {
          "base_uri": "https://localhost:8080/",
          "height": 609
        },
        "id": "UxoGq9ZlSUZK",
        "outputId": "e107444c-39ce-41cb-f639-d617debc87a8"
      },
      "execution_count": 20,
      "outputs": [
        {
          "output_type": "execute_result",
          "data": {
            "text/plain": [
              "<matplotlib.axes._subplots.AxesSubplot at 0x7fc78b6e3b10>"
            ]
          },
          "metadata": {},
          "execution_count": 20
        },
        {
          "output_type": "display_data",
          "data": {
            "image/png": "[encoded data removed]",
            "text/plain": [
              "<Figure size 720x720 with 1 Axes>"
            ]
          },
          "metadata": {
            "needs_background": "light"
          }
        }
      ]
    },
    {
      "cell_type": "code",
      "source": [
        "df=pd.DataFrame(\n",
        "    np.random.randn(10,4).cumsum(axis=0),\n",
        "    columns=['A','B','C','D'],\n",
        "    index=np.arange(0,100,10)\n",
        ")\n",
        "df"
      ],
      "metadata": {
        "colab": {
          "base_uri": "https://localhost:8080/",
          "height": 363
        },
        "id": "I0Eu3RQ9Sa5o",
        "outputId": "164dc59a-d265-4433-c6ac-bf2cda2f4a0e"
      },
      "execution_count": 24,
      "outputs": [
        {
          "output_type": "execute_result",
          "data": {
            "text/html": [
              "\n",
              "  <div id=\"df-8231425e-da00-423b-bf39-f796de30c3ca\">\n",
              "    <div class=\"colab-df-container\">\n",
              "      <div>\n",
              "<style scoped>\n",
              "    .dataframe tbody tr th:only-of-type {\n",
              "        vertical-align: middle;\n",
              "    }\n",
              "\n",
              "    .dataframe tbody tr th {\n",
              "        vertical-align: top;\n",
              "    }\n",
              "\n",
              "    .dataframe thead th {\n",
              "        text-align: right;\n",
              "    }\n",
              "</style>\n",
              "<table border=\"1\" class=\"dataframe\">\n",
              "  <thead>\n",
              "    <tr style=\"text-align: right;\">\n",
              "      <th></th>\n",
              "      <th>A</th>\n",
              "      <th>B</th>\n",
              "      <th>C</th>\n",
              "      <th>D</th>\n",
              "    </tr>\n",
              "  </thead>\n",
              "  <tbody>\n",
              "    <tr>\n",
              "      <th>0</th>\n",
              "      <td>0.393229</td>\n",
              "      <td>2.259920</td>\n",
              "      <td>-0.066606</td>\n",
              "      <td>-0.637294</td>\n",
              "    </tr>\n",
              "    <tr>\n",
              "      <th>10</th>\n",
              "      <td>-0.307647</td>\n",
              "      <td>1.427512</td>\n",
              "      <td>-0.641989</td>\n",
              "      <td>0.046884</td>\n",
              "    </tr>\n",
              "    <tr>\n",
              "      <th>20</th>\n",
              "      <td>0.771287</td>\n",
              "      <td>0.928150</td>\n",
              "      <td>0.886945</td>\n",
              "      <td>-0.829827</td>\n",
              "    </tr>\n",
              "    <tr>\n",
              "      <th>30</th>\n",
              "      <td>-0.789284</td>\n",
              "      <td>1.122234</td>\n",
              "      <td>1.879097</td>\n",
              "      <td>-0.545460</td>\n",
              "    </tr>\n",
              "    <tr>\n",
              "      <th>40</th>\n",
              "      <td>-0.410859</td>\n",
              "      <td>1.185325</td>\n",
              "      <td>2.964314</td>\n",
              "      <td>-2.051782</td>\n",
              "    </tr>\n",
              "    <tr>\n",
              "      <th>50</th>\n",
              "      <td>-0.373726</td>\n",
              "      <td>2.248645</td>\n",
              "      <td>4.051809</td>\n",
              "      <td>-0.582561</td>\n",
              "    </tr>\n",
              "    <tr>\n",
              "      <th>60</th>\n",
              "      <td>1.503797</td>\n",
              "      <td>1.228047</td>\n",
              "      <td>2.961651</td>\n",
              "      <td>-1.056661</td>\n",
              "    </tr>\n",
              "    <tr>\n",
              "      <th>70</th>\n",
              "      <td>1.779984</td>\n",
              "      <td>2.886252</td>\n",
              "      <td>2.351069</td>\n",
              "      <td>0.530497</td>\n",
              "    </tr>\n",
              "    <tr>\n",
              "      <th>80</th>\n",
              "      <td>2.024026</td>\n",
              "      <td>3.420203</td>\n",
              "      <td>3.155528</td>\n",
              "      <td>0.655891</td>\n",
              "    </tr>\n",
              "    <tr>\n",
              "      <th>90</th>\n",
              "      <td>1.933704</td>\n",
              "      <td>2.451828</td>\n",
              "      <td>3.236386</td>\n",
              "      <td>0.439820</td>\n",
              "    </tr>\n",
              "  </tbody>\n",
              "</table>\n",
              "</div>\n",
              "      <button class=\"colab-df-convert\" onclick=\"convertToInteractive('df-8231425e-da00-423b-bf39-f796de30c3ca')\"\n",
              "              title=\"Convert this dataframe to an interactive table.\"\n",
              "              style=\"display:none;\">\n",
              "        \n",
              "  <svg xmlns=\"http://www.w3.org/2000/svg\" height=\"24px\"viewBox=\"0 0 24 24\"\n",
              "       width=\"24px\">\n",
              "    <path d=\"M0 0h24v24H0V0z\" fill=\"none\"/>\n",
              "    <path d=\"M18.56 5.44l.94 2.06.94-2.06 2.06-.94-2.06-.94-.94-2.06-.94 2.06-2.06.94zm-11 1L8.5 8.5l.94-2.06 2.06-.94-2.06-.94L8.5 2.5l-.94 2.06-2.06.94zm10 10l.94 2.06.94-2.06 2.06-.94-2.06-.94-.94-2.06-.94 2.06-2.06.94z\"/><path d=\"M17.41 7.96l-1.37-1.37c-.4-.4-.92-.59-1.43-.59-.52 0-1.04.2-1.43.59L10.3 9.45l-7.72 7.72c-.78.78-.78 2.05 0 2.83L4 21.41c.39.39.9.59 1.41.59.51 0 1.02-.2 1.41-.59l7.78-7.78 2.81-2.81c.8-.78.8-2.07 0-2.86zM5.41 20L4 18.59l7.72-7.72 1.47 1.35L5.41 20z\"/>\n",
              "  </svg>\n",
              "      </button>\n",
              "      \n",
              "  <style>\n",
              "    .colab-df-container {\n",
              "      display:flex;\n",
              "      flex-wrap:wrap;\n",
              "      gap: 12px;\n",
              "    }\n",
              "\n",
              "    .colab-df-convert {\n",
              "      background-color: #E8F0FE;\n",
              "      border: none;\n",
              "      border-radius: 50%;\n",
              "      cursor: pointer;\n",
              "      display: none;\n",
              "      fill: #1967D2;\n",
              "      height: 32px;\n",
              "      padding: 0 0 0 0;\n",
              "      width: 32px;\n",
              "    }\n",
              "\n",
              "    .colab-df-convert:hover {\n",
              "      background-color: #E2EBFA;\n",
              "      box-shadow: 0px 1px 2px rgba(60, 64, 67, 0.3), 0px 1px 3px 1px rgba(60, 64, 67, 0.15);\n",
              "      fill: #174EA6;\n",
              "    }\n",
              "\n",
              "    [theme=dark] .colab-df-convert {\n",
              "      background-color: #3B4455;\n",
              "      fill: #D2E3FC;\n",
              "    }\n",
              "\n",
              "    [theme=dark] .colab-df-convert:hover {\n",
              "      background-color: #434B5C;\n",
              "      box-shadow: 0px 1px 3px 1px rgba(0, 0, 0, 0.15);\n",
              "      filter: drop-shadow(0px 1px 2px rgba(0, 0, 0, 0.3));\n",
              "      fill: #FFFFFF;\n",
              "    }\n",
              "  </style>\n",
              "\n",
              "      <script>\n",
              "        const buttonEl =\n",
              "          document.querySelector('#df-8231425e-da00-423b-bf39-f796de30c3ca button.colab-df-convert');\n",
              "        buttonEl.style.display =\n",
              "          google.colab.kernel.accessAllowed ? 'block' : 'none';\n",
              "\n",
              "        async function convertToInteractive(key) {\n",
              "          const element = document.querySelector('#df-8231425e-da00-423b-bf39-f796de30c3ca');\n",
              "          const dataTable =\n",
              "            await google.colab.kernel.invokeFunction('convertToInteractive',\n",
              "                                                     [key], {});\n",
              "          if (!dataTable) return;\n",
              "\n",
              "          const docLinkHtml = 'Like what you see? Visit the ' +\n",
              "            '<a target=\"_blank\" href=https://colab.research.google.com/notebooks/data_table.ipynb>data table notebook</a>'\n",
              "            + ' to learn more about interactive tables.';\n",
              "          element.innerHTML = '';\n",
              "          dataTable['output_type'] = 'display_data';\n",
              "          await google.colab.output.renderOutput(dataTable, element);\n",
              "          const docLink = document.createElement('div');\n",
              "          docLink.innerHTML = docLinkHtml;\n",
              "          element.appendChild(docLink);\n",
              "        }\n",
              "      </script>\n",
              "    </div>\n",
              "  </div>\n",
              "  "
            ],
            "text/plain": [
              "           A         B         C         D\n",
              "0   0.393229  2.259920 -0.066606 -0.637294\n",
              "10 -0.307647  1.427512 -0.641989  0.046884\n",
              "20  0.771287  0.928150  0.886945 -0.829827\n",
              "30 -0.789284  1.122234  1.879097 -0.545460\n",
              "40 -0.410859  1.185325  2.964314 -2.051782\n",
              "50 -0.373726  2.248645  4.051809 -0.582561\n",
              "60  1.503797  1.228047  2.961651 -1.056661\n",
              "70  1.779984  2.886252  2.351069  0.530497\n",
              "80  2.024026  3.420203  3.155528  0.655891\n",
              "90  1.933704  2.451828  3.236386  0.439820"
            ]
          },
          "metadata": {},
          "execution_count": 24
        }
      ]
    },
    {
      "cell_type": "code",
      "source": [
        "df.plot()"
      ],
      "metadata": {
        "colab": {
          "base_uri": "https://localhost:8080/",
          "height": 282
        },
        "id": "R_og0b6dVIFp",
        "outputId": "e8df0a40-74be-4435-d1ee-a4cb58c9ca84"
      },
      "execution_count": 26,
      "outputs": [
        {
          "output_type": "execute_result",
          "data": {
            "text/plain": [
              "<matplotlib.axes._subplots.AxesSubplot at 0x7fc7874bf490>"
            ]
          },
          "metadata": {},
          "execution_count": 26
        },
        {
          "output_type": "display_data",
          "data": {
            "image/png": "[encoded data removed]",
            "text/plain": [
              "<Figure size 432x288 with 1 Axes>"
            ]
          },
          "metadata": {
            "needs_background": "light"
          }
        }
      ]
    },
    {
      "cell_type": "code",
      "source": [
        "plt.figure()\n",
        "plt.plot(df.index,df['A'])\n",
        "plt.plot(df.index,df['B'])\n",
        "plt.plot(df.index,df['C'])\n",
        "plt.plot(df.index,df['D'])\n",
        "\n",
        "plt.title('pyplot으로 plot 하기')\n",
        "plt.legend(df.columns)\n",
        "plt.show()"
      ],
      "metadata": {
        "colab": {
          "base_uri": "https://localhost:8080/",
          "height": 279
        },
        "id": "fz264wOaTWzS",
        "outputId": "fe71c02a-4e49-4c67-e011-0f260d8402c6"
      },
      "execution_count": 31,
      "outputs": [
        {
          "output_type": "display_data",
          "data": {
            "image/png": "[encoded data removed]",
            "text/plain": [
              "<Figure size 432x288 with 1 Axes>"
            ]
          },
          "metadata": {
            "needs_background": "light"
          }
        }
      ]
    },
    {
      "cell_type": "markdown",
      "source": [
        "#3.Bar plot"
      ],
      "metadata": {
        "id": "r36mBME6Z2Zi"
      }
    },
    {
      "cell_type": "code",
      "source": [
        "#데이터 만들기\n",
        "np.random.seed(3)\n",
        "x=0.5+np.arange(8)\n",
        "y=np.random.uniform(2,7,len(x))\n",
        "\n",
        "fig, ax =plt.subplots()\n",
        "\n",
        "ax.bar(x,y,width=1,edgecolor='white',linewidth=0.7)\n",
        "ax.set(\n",
        "    xlim=(0,8), xticks=np.arange(1,8),\n",
        "    ylim=(0,8), yticks=np.arange(1,8),\n",
        ")\n",
        "plt.show()"
      ],
      "metadata": {
        "colab": {
          "base_uri": "https://localhost:8080/",
          "height": 264
        },
        "id": "zggnLeUvZ1n7",
        "outputId": "ed8fdcc4-4dc4-48ba-aa46-4302b8553a50"
      },
      "execution_count": 36,
      "outputs": [
        {
          "output_type": "display_data",
          "data": {
            "image/png": "[encoded data removed]",
            "text/plain": [
              "<Figure size 432x288 with 1 Axes>"
            ]
          },
          "metadata": {
            "needs_background": "light"
          }
        }
      ]
    },
    {
      "cell_type": "code",
      "source": [
        "s=pd.Series(\n",
        "    np.random.rand(16),\n",
        "    index=list('abcdefghijklmnop')\n",
        ")\n",
        "s"
      ],
      "metadata": {
        "colab": {
          "base_uri": "https://localhost:8080/"
        },
        "id": "QFhueLkQVORn",
        "outputId": "e98eb9e1-d2f9-4a06-b31b-538198d27243"
      },
      "execution_count": 45,
      "outputs": [
        {
          "output_type": "execute_result",
          "data": {
            "text/plain": [
              "a    0.406520\n",
              "b    0.468940\n",
              "c    0.269236\n",
              "d    0.291793\n",
              "e    0.457686\n",
              "f    0.860534\n",
              "g    0.586253\n",
              "h    0.283488\n",
              "i    0.277978\n",
              "j    0.454622\n",
              "k    0.205410\n",
              "l    0.201379\n",
              "m    0.514035\n",
              "n    0.087229\n",
              "o    0.483586\n",
              "p    0.362176\n",
              "dtype: float64"
            ]
          },
          "metadata": {},
          "execution_count": 45
        }
      ]
    },
    {
      "cell_type": "code",
      "source": [
        "#bar plot만들기\n",
        "s.plot(kind='bar')\n"
      ],
      "metadata": {
        "colab": {
          "base_uri": "https://localhost:8080/",
          "height": 282
        },
        "id": "9Ma6Qg5IZy4j",
        "outputId": "4fda93d1-4bed-4c3b-8abd-fe1ca368f555"
      },
      "execution_count": 46,
      "outputs": [
        {
          "output_type": "execute_result",
          "data": {
            "text/plain": [
              "<matplotlib.axes._subplots.AxesSubplot at 0x7fc7873b55d0>"
            ]
          },
          "metadata": {},
          "execution_count": 46
        },
        {
          "output_type": "display_data",
          "data": {
            "image/png": "[encoded data removed]",
            "text/plain": [
              "<Figure size 432x288 with 1 Axes>"
            ]
          },
          "metadata": {
            "needs_background": "light"
          }
        }
      ]
    },
    {
      "cell_type": "code",
      "source": [
        "plt.bar(s.index, s)"
      ],
      "metadata": {
        "colab": {
          "base_uri": "https://localhost:8080/",
          "height": 282
        },
        "id": "bA4eB0w0tUN0",
        "outputId": "0fd7d9d5-87f4-472f-d555-15e984ff4666"
      },
      "execution_count": 47,
      "outputs": [
        {
          "output_type": "execute_result",
          "data": {
            "text/plain": [
              "<BarContainer object of 16 artists>"
            ]
          },
          "metadata": {},
          "execution_count": 47
        },
        {
          "output_type": "display_data",
          "data": {
            "image/png": "[encoded data removed]",
            "text/plain": [
              "<Figure size 432x288 with 1 Axes>"
            ]
          },
          "metadata": {
            "needs_background": "light"
          }
        }
      ]
    },
    {
      "cell_type": "code",
      "source": [
        "#수평방향 바 플롯 만들기\n",
        "s.plot(kind='barh')"
      ],
      "metadata": {
        "colab": {
          "base_uri": "https://localhost:8080/",
          "height": 282
        },
        "id": "84ixYqXZuifN",
        "outputId": "8c16b170-b30b-404d-cc87-22c8c79286df"
      },
      "execution_count": 51,
      "outputs": [
        {
          "output_type": "execute_result",
          "data": {
            "text/plain": [
              "<matplotlib.axes._subplots.AxesSubplot at 0x7fc786d4e610>"
            ]
          },
          "metadata": {},
          "execution_count": 51
        },
        {
          "output_type": "display_data",
          "data": {
            "image/png": "[encoded data removed]",
            "text/plain": [
              "<Figure size 432x288 with 1 Axes>"
            ]
          },
          "metadata": {
            "needs_background": "light"
          }
        }
      ]
    },
    {
      "cell_type": "code",
      "source": [
        "plt.barh(s.index,s)"
      ],
      "metadata": {
        "colab": {
          "base_uri": "https://localhost:8080/",
          "height": 282
        },
        "id": "YySeOJ73vMZ2",
        "outputId": "aa951fab-2b53-4ac4-b84b-9d4dfcbcddb8"
      },
      "execution_count": 50,
      "outputs": [
        {
          "output_type": "execute_result",
          "data": {
            "text/plain": [
              "<BarContainer object of 16 artists>"
            ]
          },
          "metadata": {},
          "execution_count": 50
        },
        {
          "output_type": "display_data",
          "data": {
            "image/png": "[encoded data removed]",
            "text/plain": [
              "<Figure size 432x288 with 1 Axes>"
            ]
          },
          "metadata": {
            "needs_background": "light"
          }
        }
      ]
    },
    {
      "cell_type": "code",
      "source": [
        "data = np.random.rand(6,4)\n",
        "index =['one','two','three','four','five','six']\n",
        "columns=['A','B','C','D']\n",
        "df = pd.DataFrame(\n",
        "    data,\n",
        "    columns=columns\n",
        ")\n",
        "df"
      ],
      "metadata": {
        "colab": {
          "base_uri": "https://localhost:8080/",
          "height": 238
        },
        "id": "GoTQgFcdvSE_",
        "outputId": "bc64bdf6-4b7f-452d-e197-0c76ff25dc31"
      },
      "execution_count": 63,
      "outputs": [
        {
          "output_type": "execute_result",
          "data": {
            "text/html": [
              "\n",
              "  <div id=\"df-f8f92e81-7159-42ec-8e38-b7e876235e6e\">\n",
              "    <div class=\"colab-df-container\">\n",
              "      <div>\n",
              "<style scoped>\n",
              "    .dataframe tbody tr th:only-of-type {\n",
              "        vertical-align: middle;\n",
              "    }\n",
              "\n",
              "    .dataframe tbody tr th {\n",
              "        vertical-align: top;\n",
              "    }\n",
              "\n",
              "    .dataframe thead th {\n",
              "        text-align: right;\n",
              "    }\n",
              "</style>\n",
              "<table border=\"1\" class=\"dataframe\">\n",
              "  <thead>\n",
              "    <tr style=\"text-align: right;\">\n",
              "      <th></th>\n",
              "      <th>A</th>\n",
              "      <th>B</th>\n",
              "      <th>C</th>\n",
              "      <th>D</th>\n",
              "    </tr>\n",
              "  </thead>\n",
              "  <tbody>\n",
              "    <tr>\n",
              "      <th>0</th>\n",
              "      <td>0.877212</td>\n",
              "      <td>0.153740</td>\n",
              "      <td>0.880125</td>\n",
              "      <td>0.798964</td>\n",
              "    </tr>\n",
              "    <tr>\n",
              "      <th>1</th>\n",
              "      <td>0.971624</td>\n",
              "      <td>0.367703</td>\n",
              "      <td>0.204940</td>\n",
              "      <td>0.240570</td>\n",
              "    </tr>\n",
              "    <tr>\n",
              "      <th>2</th>\n",
              "      <td>0.827863</td>\n",
              "      <td>0.965228</td>\n",
              "      <td>0.698810</td>\n",
              "      <td>0.482497</td>\n",
              "    </tr>\n",
              "    <tr>\n",
              "      <th>3</th>\n",
              "      <td>0.287050</td>\n",
              "      <td>0.833688</td>\n",
              "      <td>0.872180</td>\n",
              "      <td>0.092132</td>\n",
              "    </tr>\n",
              "    <tr>\n",
              "      <th>4</th>\n",
              "      <td>0.215949</td>\n",
              "      <td>0.831761</td>\n",
              "      <td>0.848304</td>\n",
              "      <td>0.314653</td>\n",
              "    </tr>\n",
              "    <tr>\n",
              "      <th>5</th>\n",
              "      <td>0.279295</td>\n",
              "      <td>0.430815</td>\n",
              "      <td>0.539447</td>\n",
              "      <td>0.095567</td>\n",
              "    </tr>\n",
              "  </tbody>\n",
              "</table>\n",
              "</div>\n",
              "      <button class=\"colab-df-convert\" onclick=\"convertToInteractive('df-f8f92e81-7159-42ec-8e38-b7e876235e6e')\"\n",
              "              title=\"Convert this dataframe to an interactive table.\"\n",
              "              style=\"display:none;\">\n",
              "        \n",
              "  <svg xmlns=\"http://www.w3.org/2000/svg\" height=\"24px\"viewBox=\"0 0 24 24\"\n",
              "       width=\"24px\">\n",
              "    <path d=\"M0 0h24v24H0V0z\" fill=\"none\"/>\n",
              "    <path d=\"M18.56 5.44l.94 2.06.94-2.06 2.06-.94-2.06-.94-.94-2.06-.94 2.06-2.06.94zm-11 1L8.5 8.5l.94-2.06 2.06-.94-2.06-.94L8.5 2.5l-.94 2.06-2.06.94zm10 10l.94 2.06.94-2.06 2.06-.94-2.06-.94-.94-2.06-.94 2.06-2.06.94z\"/><path d=\"M17.41 7.96l-1.37-1.37c-.4-.4-.92-.59-1.43-.59-.52 0-1.04.2-1.43.59L10.3 9.45l-7.72 7.72c-.78.78-.78 2.05 0 2.83L4 21.41c.39.39.9.59 1.41.59.51 0 1.02-.2 1.41-.59l7.78-7.78 2.81-2.81c.8-.78.8-2.07 0-2.86zM5.41 20L4 18.59l7.72-7.72 1.47 1.35L5.41 20z\"/>\n",
              "  </svg>\n",
              "      </button>\n",
              "      \n",
              "  <style>\n",
              "    .colab-df-container {\n",
              "      display:flex;\n",
              "      flex-wrap:wrap;\n",
              "      gap: 12px;\n",
              "    }\n",
              "\n",
              "    .colab-df-convert {\n",
              "      background-color: #E8F0FE;\n",
              "      border: none;\n",
              "      border-radius: 50%;\n",
              "      cursor: pointer;\n",
              "      display: none;\n",
              "      fill: #1967D2;\n",
              "      height: 32px;\n",
              "      padding: 0 0 0 0;\n",
              "      width: 32px;\n",
              "    }\n",
              "\n",
              "    .colab-df-convert:hover {\n",
              "      background-color: #E2EBFA;\n",
              "      box-shadow: 0px 1px 2px rgba(60, 64, 67, 0.3), 0px 1px 3px 1px rgba(60, 64, 67, 0.15);\n",
              "      fill: #174EA6;\n",
              "    }\n",
              "\n",
              "    [theme=dark] .colab-df-convert {\n",
              "      background-color: #3B4455;\n",
              "      fill: #D2E3FC;\n",
              "    }\n",
              "\n",
              "    [theme=dark] .colab-df-convert:hover {\n",
              "      background-color: #434B5C;\n",
              "      box-shadow: 0px 1px 3px 1px rgba(0, 0, 0, 0.15);\n",
              "      filter: drop-shadow(0px 1px 2px rgba(0, 0, 0, 0.3));\n",
              "      fill: #FFFFFF;\n",
              "    }\n",
              "  </style>\n",
              "\n",
              "      <script>\n",
              "        const buttonEl =\n",
              "          document.querySelector('#df-f8f92e81-7159-42ec-8e38-b7e876235e6e button.colab-df-convert');\n",
              "        buttonEl.style.display =\n",
              "          google.colab.kernel.accessAllowed ? 'block' : 'none';\n",
              "\n",
              "        async function convertToInteractive(key) {\n",
              "          const element = document.querySelector('#df-f8f92e81-7159-42ec-8e38-b7e876235e6e');\n",
              "          const dataTable =\n",
              "            await google.colab.kernel.invokeFunction('convertToInteractive',\n",
              "                                                     [key], {});\n",
              "          if (!dataTable) return;\n",
              "\n",
              "          const docLinkHtml = 'Like what you see? Visit the ' +\n",
              "            '<a target=\"_blank\" href=https://colab.research.google.com/notebooks/data_table.ipynb>data table notebook</a>'\n",
              "            + ' to learn more about interactive tables.';\n",
              "          element.innerHTML = '';\n",
              "          dataTable['output_type'] = 'display_data';\n",
              "          await google.colab.output.renderOutput(dataTable, element);\n",
              "          const docLink = document.createElement('div');\n",
              "          docLink.innerHTML = docLinkHtml;\n",
              "          element.appendChild(docLink);\n",
              "        }\n",
              "      </script>\n",
              "    </div>\n",
              "  </div>\n",
              "  "
            ],
            "text/plain": [
              "          A         B         C         D\n",
              "0  0.877212  0.153740  0.880125  0.798964\n",
              "1  0.971624  0.367703  0.204940  0.240570\n",
              "2  0.827863  0.965228  0.698810  0.482497\n",
              "3  0.287050  0.833688  0.872180  0.092132\n",
              "4  0.215949  0.831761  0.848304  0.314653\n",
              "5  0.279295  0.430815  0.539447  0.095567"
            ]
          },
          "metadata": {},
          "execution_count": 63
        }
      ]
    },
    {
      "cell_type": "code",
      "source": [
        "df.plot(kind='barh')"
      ],
      "metadata": {
        "colab": {
          "base_uri": "https://localhost:8080/",
          "height": 282
        },
        "id": "bG8gd0xdwv13",
        "outputId": "c9e0f849-ea41-49fe-8df0-51ad19788034"
      },
      "execution_count": 64,
      "outputs": [
        {
          "output_type": "execute_result",
          "data": {
            "text/plain": [
              "<matplotlib.axes._subplots.AxesSubplot at 0x7fc78617a390>"
            ]
          },
          "metadata": {},
          "execution_count": 64
        },
        {
          "output_type": "display_data",
          "data": {
            "image/png": "[encoded data removed]",
            "text/plain": [
              "<Figure size 432x288 with 1 Axes>"
            ]
          },
          "metadata": {
            "needs_background": "light"
          }
        }
      ]
    },
    {
      "cell_type": "code",
      "source": [
        "#A컬럼만 도식화\n",
        "plt.bar(df.index,df['A'])\n",
        "plt.xticks(df.index,index)\n",
        "plt.show()"
      ],
      "metadata": {
        "colab": {
          "base_uri": "https://localhost:8080/",
          "height": 264
        },
        "id": "1SgInZPYxf7l",
        "outputId": "9b401306-08b3-4113-a660-26d1bda0b857"
      },
      "execution_count": 65,
      "outputs": [
        {
          "output_type": "display_data",
          "data": {
            "image/png": "[encoded data removed]",
            "text/plain": [
              "<Figure size 432x288 with 1 Axes>"
            ]
          },
          "metadata": {
            "needs_background": "light"
          }
        }
      ]
    },
    {
      "cell_type": "code",
      "source": [
        "#A~D컬럼 도식화\n",
        "plt.bar(df.index,df['A'])\n",
        "plt.bar(df.index,df['B'])\n",
        "plt.bar(df.index,df['C'])\n",
        "plt.bar(df.index,df['D'])\n",
        "\n",
        "plt.xticks(df.index,index)\n",
        "plt.show()"
      ],
      "metadata": {
        "colab": {
          "base_uri": "https://localhost:8080/",
          "height": 264
        },
        "id": "Q5qnCgGmyNu4",
        "outputId": "7bc3ee85-9c97-406d-d496-008644dc490c"
      },
      "execution_count": 66,
      "outputs": [
        {
          "output_type": "display_data",
          "data": {
            "image/png": "[encoded data removed]",
            "text/plain": [
              "<Figure size 432x288 with 1 Axes>"
            ]
          },
          "metadata": {
            "needs_background": "light"
          }
        }
      ]
    },
    {
      "cell_type": "code",
      "source": [
        "#A~D컬럼 도식화-index위치 조절해서 각 컬럼 분리해주기\n",
        "w=0.2\n",
        "plt.bar(df.index-2*w,df['A'],width=w)\n",
        "plt.bar(df.index-1*w,df['B'],width=w)\n",
        "plt.bar(df.index-0*w,df['C'],width=w)\n",
        "plt.bar(df.index+1*w,df['D'],width=w)\n",
        "\n",
        "plt.xticks(df.index,index)\n",
        "plt.show()"
      ],
      "metadata": {
        "colab": {
          "base_uri": "https://localhost:8080/",
          "height": 264
        },
        "id": "qBunt9HCyXZu",
        "outputId": "86354504-ad42-427c-bef6-2056eac042c6"
      },
      "execution_count": 67,
      "outputs": [
        {
          "output_type": "display_data",
          "data": {
            "image/png": "[encoded data removed]",
            "text/plain": [
              "<Figure size 432x288 with 1 Axes>"
            ]
          },
          "metadata": {
            "needs_background": "light"
          }
        }
      ]
    },
    {
      "cell_type": "code",
      "source": [
        "df.plot(kind='barh',stacked=True)"
      ],
      "metadata": {
        "colab": {
          "base_uri": "https://localhost:8080/",
          "height": 282
        },
        "id": "mzIZEtkbyqD3",
        "outputId": "a499ee9d-5699-48aa-c2d8-6772c9141ecb"
      },
      "execution_count": 68,
      "outputs": [
        {
          "output_type": "execute_result",
          "data": {
            "text/plain": [
              "<matplotlib.axes._subplots.AxesSubplot at 0x7fc785ddf0d0>"
            ]
          },
          "metadata": {},
          "execution_count": 68
        },
        {
          "output_type": "display_data",
          "data": {
            "image/png": "[encoded data removed]",
            "text/plain": [
              "<Figure size 432x288 with 1 Axes>"
            ]
          },
          "metadata": {
            "needs_background": "light"
          }
        }
      ]
    },
    {
      "cell_type": "code",
      "source": [
        "plt.barh(df.index,df['A'])\n",
        "\n",
        "plt.show()"
      ],
      "metadata": {
        "colab": {
          "base_uri": "https://localhost:8080/",
          "height": 264
        },
        "id": "uv2737IY8KOh",
        "outputId": "fafe8e51-6336-477e-bb44-30bce6de724b"
      },
      "execution_count": 74,
      "outputs": [
        {
          "output_type": "display_data",
          "data": {
            "image/png": "[encoded data removed]",
            "text/plain": [
              "<Figure size 432x288 with 1 Axes>"
            ]
          },
          "metadata": {
            "needs_background": "light"
          }
        }
      ]
    },
    {
      "cell_type": "code",
      "source": [
        "plt.barh(df.index,df['A'])\n",
        "plt.barh(df.index,df['B'])\n",
        "plt.barh(df.index,df['C'])\n",
        "plt.barh(df.index,df['D'])\n",
        "\n",
        "plt.show()\n",
        "\n",
        "#덮어씌워지는 문제가 발생한다."
      ],
      "metadata": {
        "colab": {
          "base_uri": "https://localhost:8080/",
          "height": 264
        },
        "id": "wG3RkDTU8e_f",
        "outputId": "21ccbf73-d951-46f6-e8dc-cf27b7ca2106"
      },
      "execution_count": 75,
      "outputs": [
        {
          "output_type": "display_data",
          "data": {
            "image/png": "[encoded data removed]",
            "text/plain": [
              "<Figure size 432x288 with 1 Axes>"
            ]
          },
          "metadata": {
            "needs_background": "light"
          }
        }
      ]
    },
    {
      "cell_type": "markdown",
      "source": [
        "#4.Histogram"
      ],
      "metadata": {
        "id": "YQazVj5Y9qrA"
      }
    },
    {
      "cell_type": "code",
      "source": [
        "np.random.seed(1)\n",
        "x = 4+ np.random.normal(0,1.5,200)\n",
        "fig, ax =plt.subplots()\n",
        "\n",
        "ax.set(\n",
        "    xlim=(0,8),\n",
        "    xticks=np.arange(1,8),\n",
        "    ylim=(0,56),\n",
        "    yticks=np.arange(0,56,9)\n",
        ")\n",
        "ax.hist(x)\n",
        "plt.show()"
      ],
      "metadata": {
        "colab": {
          "base_uri": "https://localhost:8080/",
          "height": 264
        },
        "id": "nM7SOK1N8xNO",
        "outputId": "d77d9dfb-f51a-4a6c-ee4f-692e3091754f"
      },
      "execution_count": 103,
      "outputs": [
        {
          "output_type": "display_data",
          "data": {
            "image/png": "[encoded data removed]",
            "text/plain": [
              "<Figure size 432x288 with 1 Axes>"
            ]
          },
          "metadata": {
            "needs_background": "light"
          }
        }
      ]
    },
    {
      "cell_type": "code",
      "source": [
        "s=pd.Series(np.random.normal(0,1,size=200))\n",
        "#random.normal(0,1,200) 정규분포형태로 랜덤생성 , 평균 0 표준편차 1, 200개 데이터\n",
        "\n",
        "s"
      ],
      "metadata": {
        "colab": {
          "base_uri": "https://localhost:8080/"
        },
        "id": "Shy3tAdaBkcr",
        "outputId": "4a6590c1-5cd8-42bc-de0c-03987f19125a"
      },
      "execution_count": 104,
      "outputs": [
        {
          "output_type": "execute_result",
          "data": {
            "text/plain": [
              "0     -0.400878\n",
              "1      0.824006\n",
              "2     -0.562305\n",
              "3      1.954878\n",
              "4     -1.331952\n",
              "         ...   \n",
              "195    0.794528\n",
              "196   -1.873161\n",
              "197    0.920615\n",
              "198   -0.035368\n",
              "199    2.110605\n",
              "Length: 200, dtype: float64"
            ]
          },
          "metadata": {},
          "execution_count": 104
        }
      ]
    },
    {
      "cell_type": "code",
      "source": [
        "s.hist()\n",
        "#히스토그램 만들기"
      ],
      "metadata": {
        "colab": {
          "base_uri": "https://localhost:8080/",
          "height": 284
        },
        "id": "UMjmTRj4C-mr",
        "outputId": "d66bcf9a-04cc-4d0b-f8f0-80f74763404b"
      },
      "execution_count": 105,
      "outputs": [
        {
          "output_type": "execute_result",
          "data": {
            "text/plain": [
              "<matplotlib.axes._subplots.AxesSubplot at 0x7fc786ac9290>"
            ]
          },
          "metadata": {},
          "execution_count": 105
        },
        {
          "output_type": "display_data",
          "data": {
            "image/png": "[encoded data removed]",
            "text/plain": [
              "<Figure size 432x288 with 1 Axes>"
            ]
          },
          "metadata": {
            "needs_background": "light"
          }
        }
      ]
    },
    {
      "cell_type": "code",
      "source": [
        "s.hist(bins=50)\n",
        "#구간 50개로 나누기"
      ],
      "metadata": {
        "colab": {
          "base_uri": "https://localhost:8080/",
          "height": 282
        },
        "id": "E_vYl7EhDHaC",
        "outputId": "25c1c1b8-3290-4cfb-a883-9ecd198df553"
      },
      "execution_count": 106,
      "outputs": [
        {
          "output_type": "execute_result",
          "data": {
            "text/plain": [
              "<matplotlib.axes._subplots.AxesSubplot at 0x7fc7861837d0>"
            ]
          },
          "metadata": {},
          "execution_count": 106
        },
        {
          "output_type": "display_data",
          "data": {
            "image/png": "[encoded data removed]",
            "text/plain": [
              "<Figure size 432x288 with 1 Axes>"
            ]
          },
          "metadata": {
            "needs_background": "light"
          }
        }
      ]
    },
    {
      "cell_type": "markdown",
      "source": [
        "#5.산점도(scatter)"
      ],
      "metadata": {
        "id": "kFotIMdHJO6B"
      }
    },
    {
      "cell_type": "code",
      "source": [
        "np.random.seed(3)\n",
        "x=4+np.random.normal(0,2,24)\n",
        "y=4+np.random.normal(0,2,len(x))\n",
        "\n",
        "sizes=np.random.uniform(15,80,len(x))\n",
        "colors=np.random.uniform(15,80,len(x))\n",
        "\n",
        "fig, ax =plt.subplots()\n",
        "\n",
        "ax.scatter(x,y, s=sizes, c=colors, vmin=0,vmax=100)\n",
        "ax.set(\n",
        "    xlim=(0,8),\n",
        "    xticks=np.arange(1,8),\n",
        "    ylim=(0,8),\n",
        "    yticks=np.arange(1,8)\n",
        ")\n",
        "plt.show()"
      ],
      "metadata": {
        "colab": {
          "base_uri": "https://localhost:8080/",
          "height": 264
        },
        "id": "7c7FH7j7IMjt",
        "outputId": "62f92eb0-0a5a-4d74-dee6-cc2a679731d6"
      },
      "execution_count": 113,
      "outputs": [
        {
          "output_type": "display_data",
          "data": {
            "image/png": "[encoded data removed]",
            "text/plain": [
              "<Figure size 432x288 with 1 Axes>"
            ]
          },
          "metadata": {
            "needs_background": "light"
          }
        }
      ]
    },
    {
      "cell_type": "code",
      "source": [
        "\n",
        "x1=np.random.normal(-2,4,size=(100,1))\n",
        "x2=np.random.normal(-2,4,size=(100,1))\n",
        "x2.shape"
      ],
      "metadata": {
        "colab": {
          "base_uri": "https://localhost:8080/"
        },
        "id": "CHbyfq5-Dinq",
        "outputId": "d29133c7-dcf7-4318-cf4e-92d00cc62b09"
      },
      "execution_count": 126,
      "outputs": [
        {
          "output_type": "execute_result",
          "data": {
            "text/plain": [
              "(100, 1)"
            ]
          },
          "metadata": {},
          "execution_count": 126
        }
      ]
    },
    {
      "cell_type": "code",
      "source": [
        "x=np.concatenate((x1,x2), axis=1)\n",
        "x.shape"
      ],
      "metadata": {
        "colab": {
          "base_uri": "https://localhost:8080/"
        },
        "id": "4QYcY1R7LsZr",
        "outputId": "ee892572-59ad-446a-ed68-e270c4f7b7c6"
      },
      "execution_count": 127,
      "outputs": [
        {
          "output_type": "execute_result",
          "data": {
            "text/plain": [
              "(100, 2)"
            ]
          },
          "metadata": {},
          "execution_count": 127
        }
      ]
    },
    {
      "cell_type": "code",
      "source": [
        "df=pd.DataFrame(x, columns=['x1','x2'])\n",
        "\n",
        "plt.scatter(df['x1'],df['x2'])\n",
        "plt.show()"
      ],
      "metadata": {
        "colab": {
          "base_uri": "https://localhost:8080/",
          "height": 264
        },
        "id": "nLxkoT1fL0yF",
        "outputId": "9e800443-1db0-4aed-b7ef-c2eb838ea9cb"
      },
      "execution_count": 133,
      "outputs": [
        {
          "output_type": "display_data",
          "data": {
            "image/png": "[encoded data removed]",
            "text/plain": [
              "<Figure size 432x288 with 1 Axes>"
            ]
          },
          "metadata": {
            "needs_background": "light"
          }
        }
      ]
    },
    {
      "cell_type": "markdown",
      "source": [
        "#6.Figure,subplot,axes"
      ],
      "metadata": {
        "id": "IdeRZ90LOGgW"
      }
    },
    {
      "cell_type": "code",
      "source": [
        "fig =plt.figure()\n",
        "\n",
        "ax1 =fig.add_subplot(2,2,1)\n",
        "ax2 =fig.add_subplot(2,2,2)\n",
        "ax3 =fig.add_subplot(2,2,3)\n",
        "ax4 =fig.add_subplot(2,2,4)\n",
        "type(fig)"
      ],
      "metadata": {
        "colab": {
          "base_uri": "https://localhost:8080/",
          "height": 286
        },
        "id": "tOfPBNFdMMo0",
        "outputId": "2af596e2-913b-45d8-e334-80e16d8de9df"
      },
      "execution_count": 136,
      "outputs": [
        {
          "output_type": "execute_result",
          "data": {
            "text/plain": [
              "matplotlib.figure.Figure"
            ]
          },
          "metadata": {},
          "execution_count": 136
        },
        {
          "output_type": "display_data",
          "data": {
            "image/png": "[encoded data removed]",
            "text/plain": [
              "<Figure size 432x288 with 4 Axes>"
            ]
          },
          "metadata": {
            "needs_background": "light"
          }
        }
      ]
    },
    {
      "cell_type": "code",
      "source": [
        "ax1.plot(np.random.randn(50).cumsum())\n",
        "ax2.hist(np.random.randn(100),bins=20)\n",
        "ax3.scatter(np.arange(30), np.arange(30)+3*np.random.randn(30))\n",
        "fig"
      ],
      "metadata": {
        "colab": {
          "base_uri": "https://localhost:8080/",
          "height": 264
        },
        "id": "TvaYZHb0OoKV",
        "outputId": "6ca2cfae-3107-4c57-b862-a1d6b8340223"
      },
      "execution_count": 151,
      "outputs": [
        {
          "output_type": "execute_result",
          "data": {
            "image/png": "[encoded data removed]",
            "text/plain": [
              "<Figure size 432x288 with 4 Axes>"
            ]
          },
          "metadata": {},
          "execution_count": 151
        }
      ]
    },
    {
      "cell_type": "code",
      "source": [
        "axes=plt.subplots(1,3)"
      ],
      "metadata": {
        "colab": {
          "base_uri": "https://localhost:8080/",
          "height": 268
        },
        "id": "yp-dH_3TPJcb",
        "outputId": "cb9c15d6-e994-49f3-dca1-49596513226a"
      },
      "execution_count": 152,
      "outputs": [
        {
          "output_type": "display_data",
          "data": {
            "image/png": "[encoded data removed]",
            "text/plain": [
              "<Figure size 432x288 with 3 Axes>"
            ]
          },
          "metadata": {
            "needs_background": "light"
          }
        }
      ]
    },
    {
      "cell_type": "code",
      "source": [
        "fig, axes =plt.subplots(1,3)\n",
        "type(axes)"
      ],
      "metadata": {
        "colab": {
          "base_uri": "https://localhost:8080/",
          "height": 286
        },
        "id": "K_hqUMG9crvH",
        "outputId": "abb06f82-9797-4512-cd6f-a13062e7a06a"
      },
      "execution_count": 156,
      "outputs": [
        {
          "output_type": "execute_result",
          "data": {
            "text/plain": [
              "numpy.ndarray"
            ]
          },
          "metadata": {},
          "execution_count": 156
        },
        {
          "output_type": "display_data",
          "data": {
            "image/png": "[encoded data removed]",
            "text/plain": [
              "<Figure size 432x288 with 3 Axes>"
            ]
          },
          "metadata": {
            "needs_background": "light"
          }
        }
      ]
    },
    {
      "cell_type": "code",
      "source": [
        "fig, axes =plt.subplots(1,3, figsize=(15,5))\n",
        "axes[0].plot(np.random.randn(50).cumsum())\n",
        "axes[1].hist(np.random.randn(100),bins=20)\n",
        "axes[2].scatter(np.arange(30), np.arange(30)+3*np.random.randn(30))\n",
        "plt.show()"
      ],
      "metadata": {
        "colab": {
          "base_uri": "https://localhost:8080/",
          "height": 319
        },
        "id": "M_q0PaNydNZn",
        "outputId": "ede91aef-89f8-4776-8c36-488f821a8bf5"
      },
      "execution_count": 161,
      "outputs": [
        {
          "output_type": "display_data",
          "data": {
            "image/png": "[encoded data removed]",
            "text/plain": [
              "<Figure size 1080x360 with 3 Axes>"
            ]
          },
          "metadata": {
            "needs_background": "light"
          }
        }
      ]
    },
    {
      "cell_type": "code",
      "source": [
        ""
      ],
      "metadata": {
        "id": "sYzTSXAQdroy"
      },
      "execution_count": 158,
      "outputs": []
    },
    {
      "cell_type": "code",
      "source": [
        ""
      ],
      "metadata": {
        "id": "JfZTJUVud8K3"
      },
      "execution_count": null,
      "outputs": []
    }
  ]
}
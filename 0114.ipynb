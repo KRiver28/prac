{
  "nbformat": 4,
  "nbformat_minor": 0,
  "metadata": {
    "colab": {
      "name": "0114.ipynb",
      "provenance": [],
      "collapsed_sections": [],
      "authorship_tag": "ABX9TyPIQ6WeqavSkAH3DUuqmwHV",
      "include_colab_link": true
    },
    "kernelspec": {
      "name": "python3",
      "display_name": "Python 3"
    },
    "language_info": {
      "name": "python"
    }
  },
  "cells": [
    {
      "cell_type": "markdown",
      "metadata": {
        "id": "view-in-github",
        "colab_type": "text"
      },
      "source": [
        "<a href=\"https://colab.research.google.com/github/KRiver28/prac/blob/master/0114.ipynb\" target=\"_parent\"><img src=\"https://colab.research.google.com/assets/colab-badge.svg\" alt=\"Open In Colab\"/></a>"
      ]
    },
    {
      "cell_type": "code",
      "execution_count": 9,
      "metadata": {
        "id": "_gdOb2TUJHFW"
      },
      "outputs": [],
      "source": [
        "class Calc:\n",
        "    \n",
        "    def setData(self,first, second):\n",
        "        self.first = first\n",
        "        self.second = second\n",
        "        \n",
        "    def add(self):\n",
        "        return self.first +self.second\n",
        "\n",
        "    def sub(self):\n",
        "      return self.first - self.second\n",
        "\n",
        "    def mul(self):\n",
        "      return self.first * self.second\n",
        "\n",
        "    def div(self):\n",
        "      return self.first / self.second\n"
      ]
    },
    {
      "cell_type": "code",
      "source": [
        "calc =Calc()\n",
        "calc.setData(4,2)"
      ],
      "metadata": {
        "id": "7yRt4YFWQ7Td"
      },
      "execution_count": 14,
      "outputs": []
    },
    {
      "cell_type": "code",
      "source": [
        ""
      ],
      "metadata": {
        "id": "flfJe90fRNdE"
      },
      "execution_count": 13,
      "outputs": []
    },
    {
      "cell_type": "code",
      "source": [
        "|calc.first"
      ],
      "metadata": {
        "colab": {
          "base_uri": "https://localhost:8080/"
        },
        "id": "KSF6HByERatM",
        "outputId": "102bc095-4c9b-46c4-f795-1531ceb035ea"
      },
      "execution_count": 4,
      "outputs": [
        {
          "output_type": "execute_result",
          "data": {
            "text/plain": [
              "4"
            ]
          },
          "metadata": {},
          "execution_count": 4
        }
      ]
    },
    {
      "cell_type": "code",
      "source": [
        "calc.second"
      ],
      "metadata": {
        "colab": {
          "base_uri": "https://localhost:8080/"
        },
        "id": "OJhq-jTXRhsk",
        "outputId": "83320b01-1703-43e2-e702-191417ec9eb5"
      },
      "execution_count": 5,
      "outputs": [
        {
          "output_type": "execute_result",
          "data": {
            "text/plain": [
              "2"
            ]
          },
          "metadata": {},
          "execution_count": 5
        }
      ]
    },
    {
      "cell_type": "code",
      "source": [
        "calc.add()"
      ],
      "metadata": {
        "colab": {
          "base_uri": "https://localhost:8080/"
        },
        "id": "xfbue_gzRp4b",
        "outputId": "72f815d4-269d-4cee-bee0-aef2002bac44"
      },
      "execution_count": 8,
      "outputs": [
        {
          "output_type": "execute_result",
          "data": {
            "text/plain": [
              "6"
            ]
          },
          "metadata": {},
          "execution_count": 8
        }
      ]
    },
    {
      "cell_type": "code",
      "source": [
        "calc.sub()\n"
      ],
      "metadata": {
        "colab": {
          "base_uri": "https://localhost:8080/"
        },
        "id": "9-GELi5KR088",
        "outputId": "7f24ba0b-8026-49b0-9b69-31fb4bdb05f3"
      },
      "execution_count": 15,
      "outputs": [
        {
          "output_type": "execute_result",
          "data": {
            "text/plain": [
              "2"
            ]
          },
          "metadata": {},
          "execution_count": 15
        }
      ]
    },
    {
      "cell_type": "code",
      "source": [
        "class Calc:\n",
        "    def __init__(self,first,second): #'_'가 있는 함수는 자동으로 나타나는 특수한 함수 \n",
        "      self.first = first\n",
        "      self.second = second \n",
        "    \n",
        "    def setData(self,first, second):\n",
        "        self.first = first\n",
        "        self.second = second\n",
        "        \n",
        "    def add(self):\n",
        "        return self.first +self.second\n",
        "\n",
        "    def sub(self):\n",
        "      return self.first - self.second\n",
        "\n",
        "    def mul(self):\n",
        "      return self.first * self.second\n",
        "\n",
        "    def div(self):\n",
        "      return self.first / self.second"
      ],
      "metadata": {
        "id": "FHLJm050SX1M"
      },
      "execution_count": 16,
      "outputs": []
    },
    {
      "cell_type": "code",
      "source": [
        "a= Calc(4,2)"
      ],
      "metadata": {
        "id": "M04chFiUY61d"
      },
      "execution_count": 28,
      "outputs": []
    },
    {
      "cell_type": "code",
      "source": [
        "#상속"
      ],
      "metadata": {
        "id": "V9oTmGtFY-sr"
      },
      "execution_count": null,
      "outputs": []
    },
    {
      "cell_type": "code",
      "source": [
        "class childcalc(Calc):\n",
        "  pass"
      ],
      "metadata": {
        "id": "TU7nvKA8dI57"
      },
      "execution_count": 18,
      "outputs": []
    },
    {
      "cell_type": "code",
      "source": [
        "c = childcalc(4,2)"
      ],
      "metadata": {
        "id": "jayfcs3NdS3v"
      },
      "execution_count": 19,
      "outputs": []
    },
    {
      "cell_type": "code",
      "source": [
        "c.add()"
      ],
      "metadata": {
        "colab": {
          "base_uri": "https://localhost:8080/"
        },
        "id": "DWa8lglNddHU",
        "outputId": "e67642ff-e59f-4fbf-8fac-05c84e55648c"
      },
      "execution_count": 20,
      "outputs": [
        {
          "output_type": "execute_result",
          "data": {
            "text/plain": [
              "6"
            ]
          },
          "metadata": {},
          "execution_count": 20
        }
      ]
    },
    {
      "cell_type": "code",
      "source": [
        "class childcalc(Calc):\n",
        "  def pow(self):\n",
        "    return self.first**self.second"
      ],
      "metadata": {
        "id": "8KvyzzrBdhRM"
      },
      "execution_count": 29,
      "outputs": []
    },
    {
      "cell_type": "code",
      "source": [
        "c = childcalc(4,0)\n",
        "c.div()"
      ],
      "metadata": {
        "colab": {
          "base_uri": "https://localhost:8080/",
          "height": 284
        },
        "id": "JJPC0yrMegee",
        "outputId": "1f9ed927-674a-4446-b6dc-997dafe373a9"
      },
      "execution_count": 24,
      "outputs": [
        {
          "output_type": "error",
          "ename": "ZeroDivisionError",
          "evalue": "ignored",
          "traceback": [
            "\u001b[0;31m---------------------------------------------------------------------------\u001b[0m",
            "\u001b[0;31mZeroDivisionError\u001b[0m                         Traceback (most recent call last)",
            "\u001b[0;32m<ipython-input-24-da6048e4a330>\u001b[0m in \u001b[0;36m<module>\u001b[0;34m()\u001b[0m\n\u001b[1;32m      1\u001b[0m \u001b[0mc\u001b[0m \u001b[0;34m=\u001b[0m \u001b[0mchildcalc\u001b[0m\u001b[0;34m(\u001b[0m\u001b[0;36m4\u001b[0m\u001b[0;34m,\u001b[0m\u001b[0;36m0\u001b[0m\u001b[0;34m)\u001b[0m\u001b[0;34m\u001b[0m\u001b[0;34m\u001b[0m\u001b[0m\n\u001b[0;32m----> 2\u001b[0;31m \u001b[0mc\u001b[0m\u001b[0;34m.\u001b[0m\u001b[0mdiv\u001b[0m\u001b[0;34m(\u001b[0m\u001b[0;34m)\u001b[0m\u001b[0;34m\u001b[0m\u001b[0;34m\u001b[0m\u001b[0m\n\u001b[0m",
            "\u001b[0;32m<ipython-input-16-a01985b203e6>\u001b[0m in \u001b[0;36mdiv\u001b[0;34m(self)\u001b[0m\n\u001b[1;32m     18\u001b[0m \u001b[0;34m\u001b[0m\u001b[0m\n\u001b[1;32m     19\u001b[0m     \u001b[0;32mdef\u001b[0m \u001b[0mdiv\u001b[0m\u001b[0;34m(\u001b[0m\u001b[0mself\u001b[0m\u001b[0;34m)\u001b[0m\u001b[0;34m:\u001b[0m\u001b[0;34m\u001b[0m\u001b[0;34m\u001b[0m\u001b[0m\n\u001b[0;32m---> 20\u001b[0;31m       \u001b[0;32mreturn\u001b[0m \u001b[0mself\u001b[0m\u001b[0;34m.\u001b[0m\u001b[0mfirst\u001b[0m \u001b[0;34m/\u001b[0m \u001b[0mself\u001b[0m\u001b[0;34m.\u001b[0m\u001b[0msecond\u001b[0m\u001b[0;34m\u001b[0m\u001b[0;34m\u001b[0m\u001b[0m\n\u001b[0m",
            "\u001b[0;31mZeroDivisionError\u001b[0m: division by zero"
          ]
        }
      ]
    },
    {
      "cell_type": "code",
      "source": [
        "class safecalc(Calc):\n",
        "  def div(self):\n",
        "    if self.second == 0:\n",
        "        return print('0으로는 나눌 수 없습니다.')\n",
        "    else:\n",
        "        return self.first/self.second"
      ],
      "metadata": {
        "id": "aNdrda4SekY0"
      },
      "execution_count": 32,
      "outputs": []
    },
    {
      "cell_type": "code",
      "source": [
        "c = safecalc(4,1)\n",
        "c.div()"
      ],
      "metadata": {
        "colab": {
          "base_uri": "https://localhost:8080/"
        },
        "id": "fLkTaGm32XdW",
        "outputId": "ee6fa81f-ff1e-4c28-91a1-78cbb60ad2e9"
      },
      "execution_count": 35,
      "outputs": [
        {
          "output_type": "execute_result",
          "data": {
            "text/plain": [
              "4.0"
            ]
          },
          "metadata": {},
          "execution_count": 35
        }
      ]
    },
    {
      "cell_type": "code",
      "source": [
        "#연습하기"
      ],
      "metadata": {
        "id": "BoLTdClN2yH_"
      },
      "execution_count": 36,
      "outputs": []
    },
    {
      "cell_type": "code",
      "source": [
        "class Human:\n",
        "  pass\n"
      ],
      "metadata": {
        "id": "oXtIEcx0C6ug"
      },
      "execution_count": 37,
      "outputs": []
    },
    {
      "cell_type": "code",
      "source": [
        "class Human():\n",
        "  def __init__(self):\n",
        "        print('응애응애')"
      ],
      "metadata": {
        "id": "0q03roDtC_v2"
      },
      "execution_count": 41,
      "outputs": []
    },
    {
      "cell_type": "code",
      "source": [
        "c=Human()"
      ],
      "metadata": {
        "colab": {
          "base_uri": "https://localhost:8080/"
        },
        "id": "U9E-V2UZErtm",
        "outputId": "35ac5980-c513-40fc-e055-d7cd1e4344bd"
      },
      "execution_count": 42,
      "outputs": [
        {
          "output_type": "stream",
          "name": "stdout",
          "text": [
            "응애응애\n"
          ]
        }
      ]
    },
    {
      "cell_type": "code",
      "source": [
        "class Human():\n",
        "    def __init__(self,name,age,sex):\n",
        "        print('객체 탄생!')\n",
        "        self.name = name\n",
        "        self.age = age\n",
        "        self.sex = sex"
      ],
      "metadata": {
        "id": "_UNM7cRXFLpP"
      },
      "execution_count": 52,
      "outputs": []
    },
    {
      "cell_type": "code",
      "source": [
        "c=Human('철수',30,'man')"
      ],
      "metadata": {
        "colab": {
          "base_uri": "https://localhost:8080/"
        },
        "id": "mVDgGrqnItuw",
        "outputId": "7ac3072d-961c-40a2-8fbc-8af79e98f59d"
      },
      "execution_count": 53,
      "outputs": [
        {
          "output_type": "stream",
          "name": "stdout",
          "text": [
            "객체 탄생!\n"
          ]
        }
      ]
    },
    {
      "cell_type": "code",
      "source": [
        "c.age"
      ],
      "metadata": {
        "colab": {
          "base_uri": "https://localhost:8080/"
        },
        "id": "9oo5QMuOI32_",
        "outputId": "5332a0cd-9987-4f88-806a-da118e6c3091"
      },
      "execution_count": 55,
      "outputs": [
        {
          "output_type": "execute_result",
          "data": {
            "text/plain": [
              "30"
            ]
          },
          "metadata": {},
          "execution_count": 55
        }
      ]
    },
    {
      "cell_type": "code",
      "source": [
        "#Human 클래스에 객체의 정보를 얻는 getinfo 함수 만들기\n",
        "class Human():\n",
        "    def __init__(self,name,age,sex):\n",
        "        self.name = name\n",
        "        self.age = age\n",
        "        self.sex = sex\n",
        "\n",
        "    def getinfo(self):\n",
        "      print(f'name:{self.name}, age:{self.age}, sex:{self.sex}')\n"
      ],
      "metadata": {
        "id": "Wu15gJ51Javv"
      },
      "execution_count": 57,
      "outputs": []
    },
    {
      "cell_type": "code",
      "source": [
        "c=Human('철수',100,'man')"
      ],
      "metadata": {
        "colab": {
          "base_uri": "https://localhost:8080/"
        },
        "id": "RXZzIJEYK_Vn",
        "outputId": "862e521e-69ea-431c-90b4-bc24f3a635b2"
      },
      "execution_count": 58,
      "outputs": [
        {
          "output_type": "stream",
          "name": "stdout",
          "text": [
            "객체 탄생!\n"
          ]
        }
      ]
    },
    {
      "cell_type": "code",
      "source": [
        "c.getinfo()"
      ],
      "metadata": {
        "colab": {
          "base_uri": "https://localhost:8080/"
        },
        "id": "5fleu8REL0GG",
        "outputId": "1ba18f0d-a00b-49bd-b556-12b8f3162bf5"
      },
      "execution_count": 60,
      "outputs": [
        {
          "output_type": "stream",
          "name": "stdout",
          "text": [
            "name:철수, age:100, sex:man\n"
          ]
        }
      ]
    },
    {
      "cell_type": "code",
      "source": [
        "#개인정보를 설정하는 함수 setinfo() 만들기\n",
        "class Human2():\n",
        "    def __init__(self,name='이름',age='나이',sex='성별'):\n",
        "        self.name = name\n",
        "        self.age = age\n",
        "        self.sex = sex\n",
        "\n",
        "    def getinfo(self):\n",
        "      print(f'name:{self.name}, age:{self.age}, sex:{self.sex}')\n",
        "\n",
        "    def setinfo(self,name,age,sex):\n",
        "        self.name = name\n",
        "        self.age = age\n",
        "        self.sex = sex"
      ],
      "metadata": {
        "id": "v_v8LIdxL2R2"
      },
      "execution_count": 83,
      "outputs": []
    },
    {
      "cell_type": "code",
      "source": [
        "a=Human2('철수', 100, 'man')\n",
        "a.setinfo('철수', 100, 'man')"
      ],
      "metadata": {
        "id": "KOgDdA-tVC9P"
      },
      "execution_count": 84,
      "outputs": []
    },
    {
      "cell_type": "code",
      "source": [
        "a.name"
      ],
      "metadata": {
        "colab": {
          "base_uri": "https://localhost:8080/",
          "height": 35
        },
        "id": "t7BKe2cjVJM_",
        "outputId": "4d4451c9-a6b9-44b8-890f-3ebad42a2d4e"
      },
      "execution_count": 87,
      "outputs": [
        {
          "output_type": "execute_result",
          "data": {
            "application/vnd.google.colaboratory.intrinsic+json": {
              "type": "string"
            },
            "text/plain": [
              "'철수'"
            ]
          },
          "metadata": {},
          "execution_count": 87
        }
      ]
    },
    {
      "cell_type": "code",
      "source": [
        "#Car 클래스 만들기\n",
        "class Car():\n",
        "  def __init__(self, wheel, engine):\n",
        "    self.wheel = wheel\n",
        "    self.engine = engine\n",
        "\n",
        "myCar =Car(4,'2000cc')\n",
        "myCar.wheel"
      ],
      "metadata": {
        "colab": {
          "base_uri": "https://localhost:8080/"
        },
        "id": "9_pPDGQAW48_",
        "outputId": "1fbf3d08-eede-4444-e61c-c478ca8b7746"
      },
      "execution_count": 161,
      "outputs": [
        {
          "output_type": "execute_result",
          "data": {
            "text/plain": [
              "4"
            ]
          },
          "metadata": {},
          "execution_count": 161
        }
      ]
    },
    {
      "cell_type": "code",
      "source": [
        "#부모클래스의 객체변수를 가지고 오는 생성자!\n",
        "class Truck(Car):\n",
        "  def __init__(self, wheel, engine, luggage):\n",
        "    super().__init__(wheel, engine) #부모클래스의 객체변수를 가지고 오는 생성자 super().__init__()\n",
        "    self.luggage=luggage"
      ],
      "metadata": {
        "id": "d8qjaBFmeVXB"
      },
      "execution_count": 156,
      "outputs": []
    },
    {
      "cell_type": "code",
      "source": [
        "truck=Truck(6,'2000cc','1ton')"
      ],
      "metadata": {
        "id": "tZddpZikf6Qh"
      },
      "execution_count": 163,
      "outputs": []
    },
    {
      "cell_type": "code",
      "source": [
        "truck.luggage"
      ],
      "metadata": {
        "colab": {
          "base_uri": "https://localhost:8080/",
          "height": 35
        },
        "id": "TKhRSh1OhS63",
        "outputId": "1693325a-4614-4925-f9d8-4d48581b0390"
      },
      "execution_count": 165,
      "outputs": [
        {
          "output_type": "execute_result",
          "data": {
            "application/vnd.google.colaboratory.intrinsic+json": {
              "type": "string"
            },
            "text/plain": [
              "'1ton'"
            ]
          },
          "metadata": {},
          "execution_count": 165
        }
      ]
    },
    {
      "cell_type": "code",
      "source": [
        "truck.wheel"
      ],
      "metadata": {
        "colab": {
          "base_uri": "https://localhost:8080/"
        },
        "id": "ax1mIO3JpBlo",
        "outputId": "26e7f9b1-970c-4cb2-af19-efe15f2867a8"
      },
      "execution_count": 166,
      "outputs": [
        {
          "output_type": "execute_result",
          "data": {
            "text/plain": [
              "6"
            ]
          },
          "metadata": {},
          "execution_count": 166
        }
      ]
    },
    {
      "cell_type": "code",
      "source": [
        "truck.engine"
      ],
      "metadata": {
        "colab": {
          "base_uri": "https://localhost:8080/",
          "height": 35
        },
        "id": "boC8Ir7MpEwJ",
        "outputId": "760cdeb7-0f7c-40c7-a4e9-5c70441b1fe6"
      },
      "execution_count": 167,
      "outputs": [
        {
          "output_type": "execute_result",
          "data": {
            "application/vnd.google.colaboratory.intrinsic+json": {
              "type": "string"
            },
            "text/plain": [
              "'2000cc'"
            ]
          },
          "metadata": {},
          "execution_count": 167
        }
      ]
    },
    {
      "cell_type": "code",
      "source": [
        ""
      ],
      "metadata": {
        "id": "uQllYOe0pF3w"
      },
      "execution_count": null,
      "outputs": []
    }
  ]
}
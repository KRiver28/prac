{
  "nbformat": 4,
  "nbformat_minor": 0,
  "metadata": {
    "colab": {
      "name": "네이버 스포츠 뉴스 크롤링.ipynb",
      "provenance": [],
      "authorship_tag": "ABX9TyOLdcwlUERydhIrlpmZa4F5",
      "include_colab_link": true
    },
    "kernelspec": {
      "name": "python3",
      "display_name": "Python 3"
    },
    "language_info": {
      "name": "python"
    }
  },
  "cells": [
    {
      "cell_type": "markdown",
      "metadata": {
        "id": "view-in-github",
        "colab_type": "text"
      },
      "source": [
        "<a href=\"https://colab.research.google.com/github/KRiver28/prac/blob/master/%EB%84%A4%EC%9D%B4%EB%B2%84_%EC%8A%A4%ED%8F%AC%EC%B8%A0_%EB%89%B4%EC%8A%A4_%ED%81%AC%EB%A1%A4%EB%A7%81.ipynb\" target=\"_parent\"><img src=\"https://colab.research.google.com/assets/colab-badge.svg\" alt=\"Open In Colab\"/></a>"
      ]
    },
    {
      "cell_type": "code",
      "execution_count": 2,
      "metadata": {
        "colab": {
          "base_uri": "https://localhost:8080/"
        },
        "id": "dPlAlbZDZvsh",
        "outputId": "7a599f3e-62ad-4496-92e0-a39e66e11f76"
      },
      "outputs": [
        {
          "output_type": "stream",
          "name": "stdout",
          "text": [
            "Looking in indexes: https://pypi.org/simple, https://us-python.pkg.dev/colab-wheels/public/simple/\n",
            "Requirement already satisfied: beautifulsoup4 in /usr/local/lib/python3.7/dist-packages (4.6.3)\n"
          ]
        }
      ],
      "source": [
        "!pip install beautifulsoup4"
      ]
    },
    {
      "cell_type": "code",
      "source": [
        "import requests\n",
        "from bs4 import BeautifulSoup"
      ],
      "metadata": {
        "id": "O4jnPJGVZ_Mp"
      },
      "execution_count": 3,
      "outputs": []
    },
    {
      "cell_type": "code",
      "source": [
        "RecommendAddr = \"https://sports.news.naver.com/kbaseball/news/index\"\n",
        "res = requests.get(RecommendAddr)\n",
        "soup = BeautifulSoup(res.content, 'html.parser')\n",
        "\n",
        "# mydata = soup.find('div', class_=\"news_list\")\n",
        "# recommend_list = mydata.find_all('span')\n",
        "\n",
        "html_class = soup.find_all(class_='title')\n",
        "print(html_class)\n",
        "\n",
        "for tit in html_class:\n",
        "  title=tit.text.strip()\n",
        "  print(title)\n"
      ],
      "metadata": {
        "id": "QiiUthf7aBVz"
      },
      "execution_count": null,
      "outputs": []
    },
    {
      "cell_type": "code",
      "source": [
        "RecommendAddr = \"https://sports.news.naver.com/\"\n",
        "res = requests.get(RecommendAddr+\"kbaseball/news/index?isphoto=N\")\n",
        "soup = BeautifulSoup(res.content, 'html.parser')\n",
        "mydata = soup.find('a', class_=\"title\")\n",
        "recommend_list = mydata.find_all('span')\n",
        "\n",
        "print(recommend_list)\n",
        "\n",
        "\n",
        "# for item in recommend_list:\n",
        "#     title = item['title']\n",
        "#     # addr = RecommendAddr+item['href']\n",
        "#     print(title)"
      ],
      "metadata": {
        "colab": {
          "base_uri": "https://localhost:8080/"
        },
        "id": "CYLCwwcOmHAS",
        "outputId": "7b8df2f5-f62f-44f2-edde-ea8b23188875"
      },
      "execution_count": 52,
      "outputs": [
        {
          "output_type": "stream",
          "name": "stdout",
          "text": [
            "[<span>\n",
            "\t\t\t\t\t\t\tKIA엔 자리 없는 나지완, 트레이드로 도전 나서는 건 어떨까</span>]\n"
          ]
        }
      ]
    },
    {
      "cell_type": "code",
      "source": [
        "from urllib.request import urlopen\n",
        "from bs4 import BeautifulSoup\n",
        "url = \"https://sports.news.naver.com/kbaseball/news/index?isphoto=N&date=20220721\"\n",
        "# html = urlopen(url).read()\n",
        "res = requests.get(url)\n",
        "soup = BeautifulSoup(res.text, 'html.parser')\n",
        "\n",
        "find_ele = soup.select('a.thmb')\n",
        "\n",
        "print(find_ele)\n",
        "print('html_class',html_class)"
      ],
      "metadata": {
        "colab": {
          "base_uri": "https://localhost:8080/"
        },
        "id": "g6ZYxHwubDa0",
        "outputId": "f78c000c-3765-4321-c817-e9aaf36eabad"
      },
      "execution_count": 140,
      "outputs": [
        {
          "output_type": "stream",
          "name": "stdout",
          "text": [
            "[<a class=\"thmb thmb1\" href=\"/photocenter/photo?albumId=116149&amp;photoId=3188306&amp;category=kbo\"><img alt=\" 류지현 감독, 차근차근 올라 가야지!\" class=\"imageLazyLoad\" height=\"200\" lazy-src=\"https://dthumb-phinf.pstatic.net/?src=http://imgnews.naver.net/image/109/2022/07/22/0004662919_001_20220722172204921.jpg&amp;type=nf200_200\" onclick=\"clickcr(this, 'aec*g.photo', '', '', event);\" onerror=\"imageOnError(this);\" src=\"data:image/gif;base64,R0lGODlhAQABAAAAACH5BAEKAAEALAAAAAABAAEAAAICTAEAOw==\" width=\"200\"/></a>, <a class=\"thmb thmb2\" href=\"/photocenter/photo?albumId=116149&amp;photoId=3188307&amp;category=kbo\"><img alt=\" 류지현 감독, 승리 예감\" class=\"imageLazyLoad\" height=\"100\" lazy-src=\"https://dthumb-phinf.pstatic.net/?src=http://imgnews.naver.net/image/109/2022/07/22/0004662918_001_20220722171805049.jpg&amp;type=nf100_100\" onclick=\"clickcr(this, 'aec*g.photo', '', '', event);\" onerror=\"imageOnError(this);\" src=\"data:image/gif;base64,R0lGODlhAQABAAAAACH5BAEKAAEALAAAAAABAAEAAAICTAEAOw==\" width=\"100\"/></a>, <a class=\"thmb thmb3\" href=\"/photocenter/photo?albumId=116149&amp;photoId=3188308&amp;category=kbo\"><img alt=\" 몸 푸는 손아섭\" class=\"imageLazyLoad\" height=\"100\" lazy-src=\"https://dthumb-phinf.pstatic.net/?src=http://imgnews.naver.net/image/109/2022/07/22/0004662860_001_20220722161705124.jpg&amp;type=nf100_100\" onclick=\"clickcr(this, 'aec*g.photo', '', '', event);\" onerror=\"imageOnError(this);\" src=\"data:image/gif;base64,R0lGODlhAQABAAAAACH5BAEKAAEALAAAAAABAAEAAAICTAEAOw==\" width=\"100\"/></a>, <a class=\"thmb thmb1\" href=\"/photocenter/photo?albumId=116142&amp;photoId=3188278&amp;category=kbo\"><img alt=\"잠실야구장, 그라운드 물기 제거\" class=\"imageLazyLoad\" height=\"200\" lazy-src=\"https://dthumb-phinf.pstatic.net/?src=http://imgnews.naver.net/image/109/2022/07/22/0004662912_001_20220722170408007.jpg&amp;type=nf200_200\" onclick=\"clickcr(this, 'aec*g.photo', '', '', event);\" onerror=\"imageOnError(this);\" src=\"data:image/gif;base64,R0lGODlhAQABAAAAACH5BAEKAAEALAAAAAABAAEAAAICTAEAOw==\" width=\"200\"/></a>, <a class=\"thmb thmb2\" href=\"/photocenter/photo?albumId=116142&amp;photoId=3188279&amp;category=kbo\"><img alt=\"스펀지로 그라운드 물기 제거\" class=\"imageLazyLoad\" height=\"100\" lazy-src=\"https://dthumb-phinf.pstatic.net/?src=http://imgnews.naver.net/image/109/2022/07/22/0004662913_001_20220722170408947.jpg&amp;type=nf100_100\" onclick=\"clickcr(this, 'aec*g.photo', '', '', event);\" onerror=\"imageOnError(this);\" src=\"data:image/gif;base64,R0lGODlhAQABAAAAACH5BAEKAAEALAAAAAABAAEAAAICTAEAOw==\" width=\"100\"/></a>, <a class=\"thmb thmb3\" href=\"/photocenter/photo?albumId=116142&amp;photoId=3188280&amp;category=kbo\"><img alt=\"폰트, '자신감 넘치는 표정'\" class=\"imageLazyLoad\" height=\"100\" lazy-src=\"https://dthumb-phinf.pstatic.net/?src=http://imgnews.naver.net/image/109/2022/07/22/0004662908_001_20220722170104026.jpg&amp;type=nf100_100\" onclick=\"clickcr(this, 'aec*g.photo', '', '', event);\" onerror=\"imageOnError(this);\" src=\"data:image/gif;base64,R0lGODlhAQABAAAAACH5BAEKAAEALAAAAAABAAEAAAICTAEAOw==\" width=\"100\"/></a>, <a class=\"thmb thmb1\" href=\"/photocenter/photo?albumId=116113&amp;photoId=3188190&amp;category=kbo\"><img alt=\"장충고 김동주, '함수호 홈에서 아웃!'\" class=\"imageLazyLoad\" height=\"200\" lazy-src=\"https://dthumb-phinf.pstatic.net/?src=http://imgnews.naver.net/image/109/2022/07/22/0004662900_001_20220722165304807.jpg&amp;type=nf200_200\" onclick=\"clickcr(this, 'aec*g.photo', '', '', event);\" onerror=\"imageOnError(this);\" src=\"data:image/gif;base64,R0lGODlhAQABAAAAACH5BAEKAAEALAAAAAABAAEAAAICTAEAOw==\" width=\"200\"/></a>, <a class=\"thmb thmb2\" href=\"/photocenter/photo?albumId=116113&amp;photoId=3188191&amp;category=kbo\"><img alt=\"김동주, ' 홈 어림없어'\" class=\"imageLazyLoad\" height=\"100\" lazy-src=\"https://dthumb-phinf.pstatic.net/?src=http://imgnews.naver.net/image/109/2022/07/22/0004662897_001_20220722165206577.jpg&amp;type=nf100_100\" onclick=\"clickcr(this, 'aec*g.photo', '', '', event);\" onerror=\"imageOnError(this);\" src=\"data:image/gif;base64,R0lGODlhAQABAAAAACH5BAEKAAEALAAAAAABAAEAAAICTAEAOw==\" width=\"100\"/></a>, <a class=\"thmb thmb3\" href=\"/photocenter/photo?albumId=116113&amp;photoId=3188192&amp;category=kbo\"><img alt=\"역투하는 이진하\" class=\"imageLazyLoad\" height=\"100\" lazy-src=\"https://dthumb-phinf.pstatic.net/?src=http://imgnews.naver.net/image/109/2022/07/22/0004662880_001_20220722163808641.jpg&amp;type=nf100_100\" onclick=\"clickcr(this, 'aec*g.photo', '', '', event);\" onerror=\"imageOnError(this);\" src=\"data:image/gif;base64,R0lGODlhAQABAAAAACH5BAEKAAEALAAAAAABAAEAAAICTAEAOw==\" width=\"100\"/></a>, <a class=\"thmb thmb1\" href=\"/photocenter/photo?albumId=116069&amp;photoId=3187513&amp;category=kbo\"><img alt=\" 렉스 '롯데 가을야구 자신있습니다'\" class=\"imageLazyLoad\" height=\"200\" lazy-src=\"https://dthumb-phinf.pstatic.net/?src=http://imgnews.naver.net/image/117/2022/07/21/202207211634277229_1_20220721174102826.jpg&amp;type=nf200_200\" onclick=\"clickcr(this, 'aec*g.photo', '', '', event);\" onerror=\"imageOnError(this);\" src=\"data:image/gif;base64,R0lGODlhAQABAAAAACH5BAEKAAEALAAAAAABAAEAAAICTAEAOw==\" width=\"200\"/></a>, <a class=\"thmb thmb2\" href=\"/photocenter/photo?albumId=116069&amp;photoId=3187514&amp;category=kbo\"><img alt=\" 렉스 '롯데 자이언츠 사랑해요'\" class=\"imageLazyLoad\" height=\"100\" lazy-src=\"https://dthumb-phinf.pstatic.net/?src=http://imgnews.naver.net/image/117/2022/07/21/202207211631687521_1_20220721173804773.jpg&amp;type=nf100_100\" onclick=\"clickcr(this, 'aec*g.photo', '', '', event);\" onerror=\"imageOnError(this);\" src=\"data:image/gif;base64,R0lGODlhAQABAAAAACH5BAEKAAEALAAAAAABAAEAAAICTAEAOw==\" width=\"100\"/></a>, <a class=\"thmb thmb3\" href=\"/photocenter/photo?albumId=116069&amp;photoId=3187515&amp;category=kbo\"><img alt=\" 렉스 '롯데에 희망을 안겨줄 미소가 될 수 있을까?'\" class=\"imageLazyLoad\" height=\"100\" lazy-src=\"https://dthumb-phinf.pstatic.net/?src=http://imgnews.naver.net/image/117/2022/07/21/202207211629105606_1_20220721173405173.jpg&amp;type=nf100_100\" onclick=\"clickcr(this, 'aec*g.photo', '', '', event);\" onerror=\"imageOnError(this);\" src=\"data:image/gif;base64,R0lGODlhAQABAAAAACH5BAEKAAEALAAAAAABAAEAAAICTAEAOw==\" width=\"100\"/></a>]\n",
            "html_class []\n"
          ]
        }
      ]
    },
    {
      "cell_type": "code",
      "source": [
        "#_newsList > ul > li:nth-child(1) > div > a > span\n",
        "#_newsList > ul > li:nth-child(1) > a\n",
        "#_newsList"
      ],
      "metadata": {
        "id": "CUrdz88Qax27"
      },
      "execution_count": null,
      "outputs": []
    },
    {
      "cell_type": "code",
      "source": [
        "\n",
        "from urllib.request import urlopen\n",
        "from bs4 import BeautifulSoup\n",
        "url = \"https://sports.news.naver.com/news?oid=023&aid=0003705545\"\n",
        "\n",
        "res = requests.get(url)\n",
        "soup = BeautifulSoup(res.text, 'html.parser')\n",
        "\n",
        "find_ele = soup.select('h4.title')\n",
        "\n",
        "print(find_ele)\n"
      ],
      "metadata": {
        "colab": {
          "base_uri": "https://localhost:8080/"
        },
        "id": "OvfshWS4CMrj",
        "outputId": "c3980a34-38a0-4bc9-8f52-b07cfb86911c"
      },
      "execution_count": 127,
      "outputs": [
        {
          "output_type": "stream",
          "name": "stdout",
          "text": [
            "[<h4 class=\"title\">[청룡기] 장충고, 대구상원고 상대로 3대0 영봉승...준결승 진출</h4>]\n"
          ]
        }
      ]
    },
    {
      "cell_type": "code",
      "source": [
        "https://sports.news.naver.com/news?oid=076&aid=0003895965#_ranking_news_list_1 > li:nth-child(3) > a > span"
      ],
      "metadata": {
        "id": "ScNeBafCCVn-"
      },
      "execution_count": null,
      "outputs": []
    }
  ]
}
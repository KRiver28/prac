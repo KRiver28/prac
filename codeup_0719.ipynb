{
  "nbformat": 4,
  "nbformat_minor": 0,
  "metadata": {
    "colab": {
      "name": "codeup_0719.ipynb",
      "provenance": [],
      "authorship_tag": "ABX9TyMPAciP1sjrTLK+zkPPXz8t",
      "include_colab_link": true
    },
    "kernelspec": {
      "name": "python3",
      "display_name": "Python 3"
    },
    "language_info": {
      "name": "python"
    }
  },
  "cells": [
    {
      "cell_type": "markdown",
      "metadata": {
        "id": "view-in-github",
        "colab_type": "text"
      },
      "source": [
        "<a href=\"https://colab.research.google.com/github/KRiver28/prac/blob/master/codeup_0719.ipynb\" target=\"_parent\"><img src=\"https://colab.research.google.com/assets/colab-badge.svg\" alt=\"Open In Colab\"/></a>"
      ]
    },
    {
      "cell_type": "code",
      "execution_count": 3,
      "metadata": {
        "id": "eh8eYm4jk6-M",
        "colab": {
          "base_uri": "https://localhost:8080/"
        },
        "outputId": "fed3db65-d6c8-4843-e58d-9ab16d0dc093"
      },
      "outputs": [
        {
          "output_type": "stream",
          "name": "stdout",
          "text": [
            "255\n",
            "ff\n"
          ]
        }
      ],
      "source": [
        "a=int(input())\n",
        "print('%x'%a)"
      ]
    },
    {
      "cell_type": "code",
      "source": [
        "b=int(input())\n",
        "c=int(input())\n",
        "print(b*c)"
      ],
      "metadata": {
        "colab": {
          "base_uri": "https://localhost:8080/"
        },
        "id": "zt1MG_kErk_m",
        "outputId": "917c09da-e0ba-44e3-c5f7-6215ae7e668b"
      },
      "execution_count": 4,
      "outputs": [
        {
          "output_type": "stream",
          "name": "stdout",
          "text": [
            "3\n",
            "4\n",
            "12\n"
          ]
        }
      ]
    },
    {
      "cell_type": "code",
      "source": [
        "a, b = input().split()\n",
        "a = int(a)\n",
        "b = int(b)\n",
        "if a>=b:\n",
        "  c=a\n",
        "else:\n",
        "  c=b\n",
        "print(int(c))"
      ],
      "metadata": {
        "colab": {
          "base_uri": "https://localhost:8080/"
        },
        "id": "LWF9BmbdsF7I",
        "outputId": "c27a4f32-2066-4e8f-ee12-9f1c82f9f5d5"
      },
      "execution_count": 5,
      "outputs": [
        {
          "output_type": "stream",
          "name": "stdout",
          "text": [
            "123 456\n",
            "456\n"
          ]
        }
      ]
    },
    {
      "cell_type": "code",
      "source": [
        ""
      ],
      "metadata": {
        "id": "p2gfD8Mdu1aK"
      },
      "execution_count": null,
      "outputs": []
    }
  ]
}
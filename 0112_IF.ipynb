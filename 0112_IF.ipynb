{
  "nbformat": 4,
  "nbformat_minor": 0,
  "metadata": {
    "colab": {
      "name": "0112_IF.ipynb",
      "provenance": [],
      "collapsed_sections": [],
      "authorship_tag": "ABX9TyPtyD+QyBidIn2ijI3xRFAe",
      "include_colab_link": true
    },
    "kernelspec": {
      "name": "python3",
      "display_name": "Python 3"
    },
    "language_info": {
      "name": "python"
    }
  },
  "cells": [
    {
      "cell_type": "markdown",
      "metadata": {
        "id": "view-in-github",
        "colab_type": "text"
      },
      "source": [
        "<a href=\"https://colab.research.google.com/github/KRiver28/prac/blob/master/0112_IF.ipynb\" target=\"_parent\"><img src=\"https://colab.research.google.com/assets/colab-badge.svg\" alt=\"Open In Colab\"/></a>"
      ]
    },
    {
      "cell_type": "code",
      "execution_count": 1,
      "metadata": {
        "colab": {
          "base_uri": "https://localhost:8080/"
        },
        "id": "4E_ANboI22kL",
        "outputId": "d1c38047-c902-4bf0-a1c7-f70e1607982a"
      },
      "outputs": [
        {
          "output_type": "stream",
          "name": "stdout",
          "text": [
            "Diet\n"
          ]
        }
      ],
      "source": [
        "isoverweight = True\n",
        "\n",
        "if isoverweight:\n",
        "  print('Diet!')\n",
        "else:\n",
        "  print('Eat it!')\n",
        "  "
      ]
    },
    {
      "cell_type": "code",
      "source": [
        "weight = int(input('체중을 입력해주세요'))\n",
        "hasDisease = input('질병이 있나요? True/False')\n",
        "if weight > 80 or hasDisease ==True:\n",
        "  print('다이어트!')\n",
        "  print('운동해!')\n",
        "\n",
        "else:\n",
        "  print('맘껏 드세요')"
      ],
      "metadata": {
        "colab": {
          "base_uri": "https://localhost:8080/"
        },
        "id": "bDpT26vh3JwL",
        "outputId": "662cd4ad-4390-4aff-8df0-6148a82f1197"
      },
      "execution_count": 9,
      "outputs": [
        {
          "output_type": "stream",
          "name": "stdout",
          "text": [
            "체중을 입력해주세요70\n",
            "질병이 있나요? True/FalseFalse\n",
            "맘껏 드세요\n"
          ]
        }
      ]
    },
    {
      "cell_type": "code",
      "source": [
        "weight = int(input('체중을 입력해주세요'))\n",
        "hasDisease = input('질병이 있나요? (Y/N)')\n",
        "if hasDisease == 'Y':\n",
        "  print('의사와 상담하세요')\n",
        "elif weight > 80 or hasDisease == 'Y':\n",
        "  print('다이어트!')\n",
        "else:\n",
        "  print('맘껏 드세요')"
      ],
      "metadata": {
        "colab": {
          "base_uri": "https://localhost:8080/"
        },
        "id": "fyC4ugo858ny",
        "outputId": "5fb80ceb-9570-4465-91d7-84ae5800a708"
      },
      "execution_count": 21,
      "outputs": [
        {
          "output_type": "stream",
          "name": "stdout",
          "text": [
            "체중을 입력해주세요90\n",
            "질병이 있나요? (Y/N)Y\n",
            "의사와 상담하세요\n"
          ]
        }
      ]
    },
    {
      "cell_type": "code",
      "source": [
        "if 4<3:\n",
        "  print('s')"
      ],
      "metadata": {
        "id": "harRCDbx8zH7"
      },
      "execution_count": 22,
      "outputs": []
    },
    {
      "cell_type": "code",
      "source": [
        "trycnt = 0\n",
        "\n",
        "while trycnt <10:\n",
        "  trycnt += 1\n",
        "  print(f'{trycnt}번 시도했습니다.')\n",
        "  if trycnt >= 10:\n",
        "    print('성공했습니다!')"
      ],
      "metadata": {
        "colab": {
          "base_uri": "https://localhost:8080/"
        },
        "id": "kTiyq36kDoZp",
        "outputId": "dc2cdf49-1d4a-4e5f-cd80-946b232438c2"
      },
      "execution_count": 23,
      "outputs": [
        {
          "output_type": "stream",
          "name": "stdout",
          "text": [
            "1번 시도했습니다.\n",
            "2번 시도했습니다.\n",
            "3번 시도했습니다.\n",
            "4번 시도했습니다.\n",
            "5번 시도했습니다.\n",
            "6번 시도했습니다.\n",
            "7번 시도했습니다.\n",
            "8번 시도했습니다.\n",
            "9번 시도했습니다.\n",
            "10번 시도했습니다.\n",
            "성공했습니다!\n"
          ]
        }
      ]
    },
    {
      "cell_type": "code",
      "source": [
        "prompt =\"\"\"\n",
        "1.추가\n",
        "2.삭제\n",
        "3.보기\n",
        "4.그만두기\n",
        "번호를 입력하세요:\n",
        "\"\"\"\n",
        "\n",
        "num=0\n",
        "\n",
        "while num !=4:\n",
        "  print(prompt)\n",
        "  num =int(input())\n",
        " \n",
        "  print(f'선택한번호: {num}')"
      ],
      "metadata": {
        "colab": {
          "base_uri": "https://localhost:8080/"
        },
        "id": "QxzN5IuFGd2J",
        "outputId": "66ffb397-6c95-4c55-9f4b-eb44b92c346c"
      },
      "execution_count": 28,
      "outputs": [
        {
          "output_type": "stream",
          "name": "stdout",
          "text": [
            "\n",
            "1.추가\n",
            "2.삭제\n",
            "3.보기\n",
            "4.그만두기\n",
            "번호를 입력하세요:\n",
            "\n",
            "4\n",
            "선택한번호: 4\n"
          ]
        }
      ]
    },
    {
      "cell_type": "code",
      "source": [
        "#자판기\n",
        "num_coffee =10\n",
        "money = 10000\n",
        "\n",
        "while money:\n",
        "  print('커피를 판매합니다')\n",
        "\n",
        "  num_coffee -=1\n",
        "  print(f'남은 커피는{num_coffee}입니다.')\n",
        "\n",
        "  if  num_coffee <= 0:\n",
        "    print('커피판매를 중지합니다.')\n",
        "    break\n"
      ],
      "metadata": {
        "id": "f1V08qfPHY2x"
      },
      "execution_count": 43,
      "outputs": []
    },
    {
      "cell_type": "code",
      "source": [
        "type(money)"
      ],
      "metadata": {
        "colab": {
          "base_uri": "https://localhost:8080/"
        },
        "id": "UviVUJHDKFad",
        "outputId": "db0b04c8-3806-4915-a3b3-e73b8e005321"
      },
      "execution_count": 42,
      "outputs": [
        {
          "output_type": "execute_result",
          "data": {
            "text/plain": [
              "int"
            ]
          },
          "metadata": {},
          "execution_count": 42
        }
      ]
    },
    {
      "cell_type": "code",
      "source": [
        "num_coffee =10\n",
        "money = int(input(\"돈을 넣어주세요,\"))\n",
        "\n",
        "while money :\n",
        "  print('커피를 판매합니다')\n",
        "  money -=5000\n",
        "  num_coffee -=1\n",
        "  print(f'남은 커피는{num_coffee}잔 입니다.')\n",
        "  print(f'남은 금액은{money}원 입니다.\\n')\n",
        "\n",
        "  if  num_coffee <= 0:\n",
        "    print('커피판매를 중지합니다.')\n",
        "    break\n",
        "\n",
        "  elif money < 5000:\n",
        "    print(f'커피판매를 중지합니다. 거스름돈은 {money}원 입니다.')\n",
        "    break"
      ],
      "metadata": {
        "colab": {
          "base_uri": "https://localhost:8080/"
        },
        "id": "s65dokF5LrbK",
        "outputId": "b2161ddf-e1f4-427d-f846-0ab744b3c2ed"
      },
      "execution_count": 54,
      "outputs": [
        {
          "output_type": "stream",
          "name": "stdout",
          "text": [
            "돈을 넣어주세요,10010\n",
            "커피를 판매합니다\n",
            "남은 커피는9잔 입니다.\n",
            "남은 금액은5010원 입니다.\n",
            "\n",
            "커피를 판매합니다\n",
            "남은 커피는8잔 입니다.\n",
            "남은 금액은10원 입니다.\n",
            "\n",
            "커피판매를 중지합니다. 거스름돈은 10원 입니다.\n"
          ]
        }
      ]
    },
    {
      "cell_type": "code",
      "source": [
        "#자판기 만들기\n",
        "\n",
        "num_coffee =10\n",
        "money = int(input(\"돈을 넣어주세요,\"))\n",
        "\n",
        "while money :\n",
        "  print('커피를 판매합니다')\n",
        "  \n",
        "  money -=5000\n",
        "  num_coffee -=1\n",
        "  print(f'남은 커피는{num_coffee}잔 입니다.')\n",
        "  print(f'남은 금액은{money}원 입니다.\\n')\n",
        "\n",
        "  if  num_coffee <= 0:\n",
        "    print('커피판매를 중지합니다.')\n",
        "    break\n",
        "\n",
        "  elif money < 5000:\n",
        "    print(f'잔액이 부족합니다. 거스름돈은 {money}원 입니다.')\n",
        "    money = int(input(\"돈을 넣어주세요,\"))"
      ],
      "metadata": {
        "colab": {
          "base_uri": "https://localhost:8080/"
        },
        "id": "4drGv_vdehTM",
        "outputId": "66a74c4b-fdd9-40dc-e156-d5df1ac86a6a"
      },
      "execution_count": 129,
      "outputs": [
        {
          "output_type": "stream",
          "name": "stdout",
          "text": [
            "돈을 넣어주세요,10000\n",
            "커피를 판매합니다\n",
            "남은 커피는9잔 입니다.\n",
            "남은 금액은5000원 입니다.\n",
            "\n",
            "커피를 판매합니다\n",
            "남은 커피는8잔 입니다.\n",
            "남은 금액은0원 입니다.\n",
            "\n",
            "잔액이 부족합니다. 거스름돈은 0원 입니다.\n",
            "돈을 넣어주세요,50000\n",
            "커피를 판매합니다\n",
            "남은 커피는7잔 입니다.\n",
            "남은 금액은45000원 입니다.\n",
            "\n",
            "커피를 판매합니다\n",
            "남은 커피는6잔 입니다.\n",
            "남은 금액은40000원 입니다.\n",
            "\n",
            "커피를 판매합니다\n",
            "남은 커피는5잔 입니다.\n",
            "남은 금액은35000원 입니다.\n",
            "\n",
            "커피를 판매합니다\n",
            "남은 커피는4잔 입니다.\n",
            "남은 금액은30000원 입니다.\n",
            "\n",
            "커피를 판매합니다\n",
            "남은 커피는3잔 입니다.\n",
            "남은 금액은25000원 입니다.\n",
            "\n",
            "커피를 판매합니다\n",
            "남은 커피는2잔 입니다.\n",
            "남은 금액은20000원 입니다.\n",
            "\n",
            "커피를 판매합니다\n",
            "남은 커피는1잔 입니다.\n",
            "남은 금액은15000원 입니다.\n",
            "\n",
            "커피를 판매합니다\n",
            "남은 커피는0잔 입니다.\n",
            "남은 금액은10000원 입니다.\n",
            "\n",
            "커피판매를 중지합니다.\n"
          ]
        }
      ]
    },
    {
      "cell_type": "code",
      "source": [
        "#1~10까지 홀수를 구하는 프로그램\n",
        "num_odd = 0\n",
        "while num_odd <=10:\n",
        "  if num_odd%2 == 1:\n",
        "    print(num_odd)\n",
        "  num_odd += 1\n"
      ],
      "metadata": {
        "colab": {
          "base_uri": "https://localhost:8080/"
        },
        "id": "quvOIm95gvAd",
        "outputId": "ac4e2c62-b6e2-4790-9df3-22fbd628c072"
      },
      "execution_count": 63,
      "outputs": [
        {
          "output_type": "stream",
          "name": "stdout",
          "text": [
            "1\n",
            "3\n",
            "5\n",
            "7\n",
            "9\n"
          ]
        }
      ]
    },
    {
      "cell_type": "code",
      "source": [
        "lcnt = ['one','two','three']\n",
        "\n",
        "for i in lcnt:\n",
        "  print(i)\n"
      ],
      "metadata": {
        "colab": {
          "base_uri": "https://localhost:8080/"
        },
        "id": "UkXz2PQtmMXc",
        "outputId": "4ef9f46f-019b-4ed2-f2c1-8da199a290ab"
      },
      "execution_count": 64,
      "outputs": [
        {
          "output_type": "stream",
          "name": "stdout",
          "text": [
            "one\n",
            "two\n",
            "three\n"
          ]
        }
      ]
    },
    {
      "cell_type": "code",
      "source": [
        "#1부터 10까지 더하는 for문\n",
        "result = 0\n",
        "for i in range(1,11):\n",
        "  result+=i\n",
        "\n",
        "print(result)"
      ],
      "metadata": {
        "colab": {
          "base_uri": "https://localhost:8080/"
        },
        "id": "iSy1onYntWeF",
        "outputId": "271750fb-69db-4fe3-b53c-155b32ad5fcc"
      },
      "execution_count": 67,
      "outputs": [
        {
          "output_type": "stream",
          "name": "stdout",
          "text": [
            "55\n"
          ]
        }
      ]
    },
    {
      "cell_type": "code",
      "source": [
        "lst = []\n",
        "for x in range (2, 10):\n",
        "  for y in range (1,10):\n",
        "    lst.append(x*y)\n",
        "\n",
        "  print(lst)\n"
      ],
      "metadata": {
        "colab": {
          "base_uri": "https://localhost:8080/"
        },
        "id": "Uvb8EvsfweAs",
        "outputId": "42648594-8817-42e1-8f46-110b2104233e"
      },
      "execution_count": 69,
      "outputs": [
        {
          "output_type": "stream",
          "name": "stdout",
          "text": [
            "[2, 4, 6, 8, 10, 12, 14, 16, 18]\n",
            "[2, 4, 6, 8, 10, 12, 14, 16, 18, 3, 6, 9, 12, 15, 18, 21, 24, 27]\n",
            "[2, 4, 6, 8, 10, 12, 14, 16, 18, 3, 6, 9, 12, 15, 18, 21, 24, 27, 4, 8, 12, 16, 20, 24, 28, 32, 36]\n",
            "[2, 4, 6, 8, 10, 12, 14, 16, 18, 3, 6, 9, 12, 15, 18, 21, 24, 27, 4, 8, 12, 16, 20, 24, 28, 32, 36, 5, 10, 15, 20, 25, 30, 35, 40, 45]\n",
            "[2, 4, 6, 8, 10, 12, 14, 16, 18, 3, 6, 9, 12, 15, 18, 21, 24, 27, 4, 8, 12, 16, 20, 24, 28, 32, 36, 5, 10, 15, 20, 25, 30, 35, 40, 45, 6, 12, 18, 24, 30, 36, 42, 48, 54]\n",
            "[2, 4, 6, 8, 10, 12, 14, 16, 18, 3, 6, 9, 12, 15, 18, 21, 24, 27, 4, 8, 12, 16, 20, 24, 28, 32, 36, 5, 10, 15, 20, 25, 30, 35, 40, 45, 6, 12, 18, 24, 30, 36, 42, 48, 54, 7, 14, 21, 28, 35, 42, 49, 56, 63]\n",
            "[2, 4, 6, 8, 10, 12, 14, 16, 18, 3, 6, 9, 12, 15, 18, 21, 24, 27, 4, 8, 12, 16, 20, 24, 28, 32, 36, 5, 10, 15, 20, 25, 30, 35, 40, 45, 6, 12, 18, 24, 30, 36, 42, 48, 54, 7, 14, 21, 28, 35, 42, 49, 56, 63, 8, 16, 24, 32, 40, 48, 56, 64, 72]\n",
            "[2, 4, 6, 8, 10, 12, 14, 16, 18, 3, 6, 9, 12, 15, 18, 21, 24, 27, 4, 8, 12, 16, 20, 24, 28, 32, 36, 5, 10, 15, 20, 25, 30, 35, 40, 45, 6, 12, 18, 24, 30, 36, 42, 48, 54, 7, 14, 21, 28, 35, 42, 49, 56, 63, 8, 16, 24, 32, 40, 48, 56, 64, 72, 9, 18, 27, 36, 45, 54, 63, 72, 81]\n"
          ]
        }
      ]
    },
    {
      "cell_type": "code",
      "source": [
        "result = [x*y for x in range(2,10) for y in range(1,10)]\n",
        "result"
      ],
      "metadata": {
        "colab": {
          "base_uri": "https://localhost:8080/"
        },
        "id": "UOSemR_UzeMU",
        "outputId": "e9724d54-db25-4747-a396-01c94c62ab71"
      },
      "execution_count": 70,
      "outputs": [
        {
          "output_type": "execute_result",
          "data": {
            "text/plain": [
              "[2,\n",
              " 4,\n",
              " 6,\n",
              " 8,\n",
              " 10,\n",
              " 12,\n",
              " 14,\n",
              " 16,\n",
              " 18,\n",
              " 3,\n",
              " 6,\n",
              " 9,\n",
              " 12,\n",
              " 15,\n",
              " 18,\n",
              " 21,\n",
              " 24,\n",
              " 27,\n",
              " 4,\n",
              " 8,\n",
              " 12,\n",
              " 16,\n",
              " 20,\n",
              " 24,\n",
              " 28,\n",
              " 32,\n",
              " 36,\n",
              " 5,\n",
              " 10,\n",
              " 15,\n",
              " 20,\n",
              " 25,\n",
              " 30,\n",
              " 35,\n",
              " 40,\n",
              " 45,\n",
              " 6,\n",
              " 12,\n",
              " 18,\n",
              " 24,\n",
              " 30,\n",
              " 36,\n",
              " 42,\n",
              " 48,\n",
              " 54,\n",
              " 7,\n",
              " 14,\n",
              " 21,\n",
              " 28,\n",
              " 35,\n",
              " 42,\n",
              " 49,\n",
              " 56,\n",
              " 63,\n",
              " 8,\n",
              " 16,\n",
              " 24,\n",
              " 32,\n",
              " 40,\n",
              " 48,\n",
              " 56,\n",
              " 64,\n",
              " 72,\n",
              " 9,\n",
              " 18,\n",
              " 27,\n",
              " 36,\n",
              " 45,\n",
              " 54,\n",
              " 63,\n",
              " 72,\n",
              " 81]"
            ]
          },
          "metadata": {},
          "execution_count": 70
        }
      ]
    },
    {
      "cell_type": "code",
      "source": [
        "\n",
        "fruits = ['apple', 'watermelon', 'orange']\n",
        "for i in fruits:\n",
        "  print(i)"
      ],
      "metadata": {
        "colab": {
          "base_uri": "https://localhost:8080/"
        },
        "id": "eYRq_lJx0Ni8",
        "outputId": "9863bfc6-bbf0-4950-e24f-b705e1005eb6"
      },
      "execution_count": 76,
      "outputs": [
        {
          "output_type": "stream",
          "name": "stdout",
          "text": [
            "apple\n",
            "watermelon\n",
            "orange\n"
          ]
        }
      ]
    },
    {
      "cell_type": "code",
      "source": [
        "prices = [10000, 20000, 30000]\n",
        "\n",
        "for i in prices:\n",
        "  price=int(i*1.1)\n",
        "  print(price)"
      ],
      "metadata": {
        "colab": {
          "base_uri": "https://localhost:8080/"
        },
        "id": "U-Xk1WPc4okk",
        "outputId": "3bd87853-80d6-46aa-a18e-1e11c2ea8915"
      },
      "execution_count": 79,
      "outputs": [
        {
          "output_type": "stream",
          "name": "stdout",
          "text": [
            "11000\n",
            "22000\n",
            "33000\n"
          ]
        }
      ]
    },
    {
      "cell_type": "code",
      "source": [
        "분식 =['김밥', '라면', '튀김']\n",
        "\n",
        "for i in 분식:\n",
        "  print(f'오늘 점심 메뉴 : {i}')"
      ],
      "metadata": {
        "colab": {
          "base_uri": "https://localhost:8080/"
        },
        "id": "tZXKDRCS5sp8",
        "outputId": "05b5bde5-43a8-4759-c643-8af70d1edc71"
      },
      "execution_count": 80,
      "outputs": [
        {
          "output_type": "stream",
          "name": "stdout",
          "text": [
            "오늘 점심 메뉴 : 김밥\n",
            "오늘 점심 메뉴 : 라면\n",
            "오늘 점심 메뉴 : 튀김\n"
          ]
        }
      ]
    },
    {
      "cell_type": "code",
      "source": [
        "pet = ['dog', 'cat', 'hamster']\n",
        "\n",
        "for i in pet:\n",
        "  print(f' {i} {len(i)}  {i[0]}')"
      ],
      "metadata": {
        "colab": {
          "base_uri": "https://localhost:8080/"
        },
        "id": "VPtg0NTp6hys",
        "outputId": "7827b713-1868-4b65-f21b-23418e9fa800"
      },
      "execution_count": 87,
      "outputs": [
        {
          "output_type": "stream",
          "name": "stdout",
          "text": [
            " dog 3  d\n",
            " cat 3  c\n",
            " hamster 7  h\n"
          ]
        }
      ]
    },
    {
      "cell_type": "code",
      "source": [
        "pets = ['dog', 'cat', 'hamster','fish']\n",
        "\n",
        "for i in pets:\n",
        "  if i !='dog':\n",
        "    print(f'{i}')"
      ],
      "metadata": {
        "colab": {
          "base_uri": "https://localhost:8080/"
        },
        "id": "cRHCkLfc8ZlN",
        "outputId": "eddebdf5-c9e7-4bcb-9b79-0d8a8e15ee57"
      },
      "execution_count": 92,
      "outputs": [
        {
          "output_type": "stream",
          "name": "stdout",
          "text": [
            "cat\n",
            "hamster\n",
            "fish\n"
          ]
        }
      ]
    },
    {
      "cell_type": "code",
      "source": [
        "pets = ['dog', 'cat', 'hamster','fish']\n",
        "\n",
        "for i in pets:\n",
        "  if i =='cat' or i == 'fish':\n",
        "    print(f'{i}')"
      ],
      "metadata": {
        "colab": {
          "base_uri": "https://localhost:8080/"
        },
        "id": "HMigBiFp9WyN",
        "outputId": "c8d96406-4512-4a73-9685-a98938e9906c"
      },
      "execution_count": 94,
      "outputs": [
        {
          "output_type": "stream",
          "name": "stdout",
          "text": [
            "cat\n",
            "fish\n"
          ]
        }
      ]
    },
    {
      "cell_type": "code",
      "source": [
        "for i in pets[1::2]:\n",
        "  print(i)"
      ],
      "metadata": {
        "colab": {
          "base_uri": "https://localhost:8080/"
        },
        "id": "h4RJXV2P_OWt",
        "outputId": "06f8d03e-51f9-4ce2-adb4-997e346443bd"
      },
      "execution_count": 98,
      "outputs": [
        {
          "output_type": "stream",
          "name": "stdout",
          "text": [
            "cat\n",
            "fish\n"
          ]
        }
      ]
    },
    {
      "cell_type": "code",
      "source": [
        "pets = ['dog', 'cat', 'hamster','fish']\n",
        "pets.reverse()\n",
        "for i in pets:\n",
        "  print(f'{i}')"
      ],
      "metadata": {
        "colab": {
          "base_uri": "https://localhost:8080/",
          "height": 229
        },
        "id": "BeijB3J1__5s",
        "outputId": "0a3e6cd4-f2d7-4272-eb34-ade01aedaf81"
      },
      "execution_count": 120,
      "outputs": [
        {
          "output_type": "error",
          "ename": "TypeError",
          "evalue": "ignored",
          "traceback": [
            "\u001b[0;31m---------------------------------------------------------------------------\u001b[0m",
            "\u001b[0;31mTypeError\u001b[0m                                 Traceback (most recent call last)",
            "\u001b[0;32m<ipython-input-120-7eb14d328102>\u001b[0m in \u001b[0;36m<module>\u001b[0;34m()\u001b[0m\n\u001b[1;32m      1\u001b[0m \u001b[0mpets\u001b[0m \u001b[0;34m=\u001b[0m \u001b[0;34m[\u001b[0m\u001b[0;34m'dog'\u001b[0m\u001b[0;34m,\u001b[0m \u001b[0;34m'cat'\u001b[0m\u001b[0;34m,\u001b[0m \u001b[0;34m'hamster'\u001b[0m\u001b[0;34m,\u001b[0m\u001b[0;34m'fish'\u001b[0m\u001b[0;34m]\u001b[0m\u001b[0;34m\u001b[0m\u001b[0;34m\u001b[0m\u001b[0m\n\u001b[1;32m      2\u001b[0m \u001b[0ma\u001b[0m\u001b[0;34m==\u001b[0m\u001b[0mpets\u001b[0m\u001b[0;34m.\u001b[0m\u001b[0mreverse\u001b[0m\u001b[0;34m(\u001b[0m\u001b[0;34m)\u001b[0m\u001b[0;34m\u001b[0m\u001b[0;34m\u001b[0m\u001b[0m\n\u001b[0;32m----> 3\u001b[0;31m \u001b[0;32mfor\u001b[0m \u001b[0mi\u001b[0m \u001b[0;32min\u001b[0m \u001b[0ma\u001b[0m\u001b[0;34m:\u001b[0m\u001b[0;34m\u001b[0m\u001b[0;34m\u001b[0m\u001b[0m\n\u001b[0m\u001b[1;32m      4\u001b[0m   \u001b[0mprint\u001b[0m\u001b[0;34m(\u001b[0m\u001b[0;34mf'{i}'\u001b[0m\u001b[0;34m)\u001b[0m\u001b[0;34m\u001b[0m\u001b[0;34m\u001b[0m\u001b[0m\n",
            "\u001b[0;31mTypeError\u001b[0m: 'NoneType' object is not iterable"
          ]
        }
      ]
    },
    {
      "cell_type": "code",
      "source": [
        "for i in pets[::-1]:\n",
        "  print(i)\n"
      ],
      "metadata": {
        "colab": {
          "base_uri": "https://localhost:8080/"
        },
        "id": "YfTesTouBhGV",
        "outputId": "47995d2a-7f62-4892-8346-c6ec9474098a"
      },
      "execution_count": 103,
      "outputs": [
        {
          "output_type": "stream",
          "name": "stdout",
          "text": [
            "fish\n",
            "hamster\n",
            "cat\n",
            "dog\n"
          ]
        }
      ]
    },
    {
      "cell_type": "code",
      "source": [
        "pets = ['dog', 'cat', 'hamster','fish']\n",
        "pets.reverse()\n",
        "print(pets)"
      ],
      "metadata": {
        "colab": {
          "base_uri": "https://localhost:8080/"
        },
        "id": "rd3NmmWeCDBU",
        "outputId": "107c8403-5e6e-4931-912b-ecd4520338b8"
      },
      "execution_count": 112,
      "outputs": [
        {
          "output_type": "stream",
          "name": "stdout",
          "text": [
            "['fish', 'hamster', 'cat', 'dog']\n"
          ]
        }
      ]
    },
    {
      "cell_type": "code",
      "source": [
        "num = [10, -20, -30, 40]\n",
        "for i in num[1:3]:\n",
        "  print(i)"
      ],
      "metadata": {
        "colab": {
          "base_uri": "https://localhost:8080/"
        },
        "id": "W8jfV235CUM0",
        "outputId": "2409df1f-8d6e-4350-930b-4a0b473dc422"
      },
      "execution_count": 123,
      "outputs": [
        {
          "output_type": "stream",
          "name": "stdout",
          "text": [
            "-20\n",
            "-30\n"
          ]
        }
      ]
    },
    {
      "cell_type": "code",
      "source": [
        "num = [10, -20, -30, 40]"
      ],
      "metadata": {
        "id": "w9htoGYfD4tk"
      },
      "execution_count": 124,
      "outputs": []
    },
    {
      "cell_type": "code",
      "source": [
        "for i in num:\n",
        "  if i < 0:\n",
        "    print(i)"
      ],
      "metadata": {
        "colab": {
          "base_uri": "https://localhost:8080/"
        },
        "id": "2qei8Pd9ECcs",
        "outputId": "35c817f9-4ffb-4c2e-b789-907277e6d343"
      },
      "execution_count": 126,
      "outputs": [
        {
          "output_type": "stream",
          "name": "stdout",
          "text": [
            "-20\n",
            "-30\n"
          ]
        }
      ]
    },
    {
      "cell_type": "code",
      "source": [
        "def add2 (*args): # `*`를 치는 것은 리스트나 튜플같은 묶음 데이터를 받기 위함\n",
        "    print(args)\n",
        "    result = 0\n",
        "    for arg in args:\n",
        "        print(arg)\n",
        "        result +=arg\n",
        "        \n",
        "    return result\n",
        "\n",
        "result =add2(1,2,3)"
      ],
      "metadata": {
        "colab": {
          "base_uri": "https://localhost:8080/"
        },
        "id": "zDgnKPP0ELZM",
        "outputId": "297903d2-9f8e-4c6f-ddd8-2aae2345c55e"
      },
      "execution_count": 128,
      "outputs": [
        {
          "output_type": "stream",
          "name": "stdout",
          "text": [
            "(1, 2, 3)\n",
            "1\n",
            "2\n",
            "3\n"
          ]
        }
      ]
    },
    {
      "cell_type": "code",
      "source": [
        ""
      ],
      "metadata": {
        "id": "iZEFe5K6OOJl"
      },
      "execution_count": null,
      "outputs": []
    }
  ]
}
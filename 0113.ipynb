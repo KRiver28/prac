{
  "nbformat": 4,
  "nbformat_minor": 0,
  "metadata": {
    "colab": {
      "name": "0113.ipynb",
      "provenance": [],
      "collapsed_sections": [],
      "authorship_tag": "ABX9TyMh1arXBd55asY8xcqboFmy",
      "include_colab_link": true
    },
    "kernelspec": {
      "name": "python3",
      "display_name": "Python 3"
    },
    "language_info": {
      "name": "python"
    }
  },
  "cells": [
    {
      "cell_type": "markdown",
      "metadata": {
        "id": "view-in-github",
        "colab_type": "text"
      },
      "source": [
        "<a href=\"https://colab.research.google.com/github/KRiver28/prac/blob/master/0113.ipynb\" target=\"_parent\"><img src=\"https://colab.research.google.com/assets/colab-badge.svg\" alt=\"Open In Colab\"/></a>"
      ]
    },
    {
      "cell_type": "code",
      "execution_count": 33,
      "metadata": {
        "id": "iSOiFBKo_jer"
      },
      "outputs": [],
      "source": [
        "#계산기 만들기\n",
        "def cal(op, *args):\n",
        "  \n",
        "  if op =='add':\n",
        "    results=0\n",
        "    for i in args:\n",
        "      results += i\n",
        "    return results\n",
        "\n",
        "  elif op == 'mul':\n",
        "    results=1\n",
        "    for a in args:\n",
        "      results *= a\n",
        "    return results\n",
        "  \n",
        "  else :\n",
        "    return 0\n",
        "  \n",
        "  return result"
      ]
    },
    {
      "cell_type": "code",
      "source": [
        "result = cal('add',1,2,3,4,5)\n",
        "result"
      ],
      "metadata": {
        "colab": {
          "base_uri": "https://localhost:8080/"
        },
        "id": "cB5R6NzS_4I2",
        "outputId": "37918c61-f876-4172-8519-1c6338317999"
      },
      "execution_count": 28,
      "outputs": [
        {
          "output_type": "execute_result",
          "data": {
            "text/plain": [
              "15"
            ]
          },
          "metadata": {},
          "execution_count": 28
        }
      ]
    },
    {
      "cell_type": "code",
      "source": [
        "result = cal('mul',1,2,3,4,5)\n",
        "result"
      ],
      "metadata": {
        "colab": {
          "base_uri": "https://localhost:8080/"
        },
        "id": "oAXd9Ki7_8b1",
        "outputId": "52aeee54-1f6a-406d-8e27-522ecac6fdf4"
      },
      "execution_count": 34,
      "outputs": [
        {
          "output_type": "execute_result",
          "data": {
            "text/plain": [
              "120"
            ]
          },
          "metadata": {},
          "execution_count": 34
        }
      ]
    },
    {
      "cell_type": "code",
      "source": [
        "#키워드 파라미터\n",
        "def mkDic(**kwargs): #kwargs : keyword arguments\n",
        "  print(kwargs)"
      ],
      "metadata": {
        "id": "ZSZE1sViAICl"
      },
      "execution_count": 41,
      "outputs": []
    },
    {
      "cell_type": "code",
      "source": [
        "mkDic(a=1)"
      ],
      "metadata": {
        "colab": {
          "base_uri": "https://localhost:8080/"
        },
        "id": "ts_yivw_DYcO",
        "outputId": "eeccbd27-4ddc-4e10-e60c-79064634a151"
      },
      "execution_count": 40,
      "outputs": [
        {
          "output_type": "stream",
          "name": "stdout",
          "text": [
            "{'a': 1}\n"
          ]
        }
      ]
    },
    {
      "cell_type": "code",
      "source": [
        "def add_mul(a,b):\n",
        "  return a+b, a*b"
      ],
      "metadata": {
        "id": "wTK_LYpRDbHt"
      },
      "execution_count": 42,
      "outputs": []
    },
    {
      "cell_type": "code",
      "source": [
        "result = add_mul(3,5)\n",
        "result"
      ],
      "metadata": {
        "colab": {
          "base_uri": "https://localhost:8080/"
        },
        "id": "YFYZ80qMEG0f",
        "outputId": "eddbe7ae-f86f-4fa9-95a9-2a034583d569"
      },
      "execution_count": 44,
      "outputs": [
        {
          "output_type": "execute_result",
          "data": {
            "text/plain": [
              "(8, 15)"
            ]
          },
          "metadata": {},
          "execution_count": 44
        }
      ]
    },
    {
      "cell_type": "code",
      "source": [
        "def say_nick(nick):\n",
        "  if nick =='바보':\n",
        "    return\n",
        "  print(f'나의 별명은 {nick}입니다.')"
      ],
      "metadata": {
        "id": "MN7HAQ8ZEMsW"
      },
      "execution_count": 47,
      "outputs": []
    },
    {
      "cell_type": "code",
      "source": [
        "say_nick('고고')\n",
        "say_nick('바보')"
      ],
      "metadata": {
        "colab": {
          "base_uri": "https://localhost:8080/"
        },
        "id": "5EKCOFhKFlG3",
        "outputId": "cba2081f-1cae-48f1-b12b-c0fa5ec17777"
      },
      "execution_count": 51,
      "outputs": [
        {
          "output_type": "stream",
          "name": "stdout",
          "text": [
            "나의 별명은 고고입니다.\n"
          ]
        }
      ]
    },
    {
      "cell_type": "code",
      "source": [
        "def intro_me(name, age, sex='a man'): #인수에 sex='남자' 와 같이 입력하면 기본값을 설정할 수 있다.\n",
        "  print(f'my name is {name}')\n",
        "  print(f'my age is {age}')\n",
        "  print(f\"I'm {sex}\")"
      ],
      "metadata": {
        "id": "-UMY2GyDF35-"
      },
      "execution_count": 61,
      "outputs": []
    },
    {
      "cell_type": "code",
      "source": [
        "intro_me('karam', 30)"
      ],
      "metadata": {
        "colab": {
          "base_uri": "https://localhost:8080/"
        },
        "id": "SFcUr3q3G0R-",
        "outputId": "5e365e60-bfb9-486d-c161-2046e972a339"
      },
      "execution_count": 62,
      "outputs": [
        {
          "output_type": "stream",
          "name": "stdout",
          "text": [
            "my name is karam\n",
            "my age is 30\n",
            "I'm a man\n"
          ]
        }
      ]
    },
    {
      "cell_type": "code",
      "source": [
        ""
      ],
      "metadata": {
        "id": "hzXHlYSAIySc"
      },
      "execution_count": null,
      "outputs": []
    },
    {
      "cell_type": "markdown",
      "source": [
        "#변수 스코프"
      ],
      "metadata": {
        "id": "EodGzUO7Me6o"
      }
    },
    {
      "cell_type": "code",
      "source": [
        "g = 1 #g 전역변수 \n",
        "def vartest(l): #l 지역변수\n",
        "  l=l+1\n",
        "\n",
        "vartest(g)\n",
        "g"
      ],
      "metadata": {
        "colab": {
          "base_uri": "https://localhost:8080/"
        },
        "id": "1lc-B4TyMhdg",
        "outputId": "cdc5fd68-ccec-406f-9819-c70afadcf6d6"
      },
      "execution_count": 63,
      "outputs": [
        {
          "output_type": "execute_result",
          "data": {
            "text/plain": [
              "1"
            ]
          },
          "metadata": {},
          "execution_count": 63
        }
      ]
    },
    {
      "cell_type": "code",
      "source": [
        ""
      ],
      "metadata": {
        "id": "ma8QeCQzMoHO"
      },
      "execution_count": null,
      "outputs": []
    },
    {
      "cell_type": "markdown",
      "source": [
        "#람다함수"
      ],
      "metadata": {
        "id": "DxZmpo7grG11"
      }
    },
    {
      "cell_type": "code",
      "source": [
        "add = lambda a,b : a+b\n",
        "result =add(1,2)\n",
        "result"
      ],
      "metadata": {
        "colab": {
          "base_uri": "https://localhost:8080/"
        },
        "id": "LWL3ULtirJ10",
        "outputId": "208a5edf-5fcd-463f-de4b-4811f4d99f12"
      },
      "execution_count": 1,
      "outputs": [
        {
          "output_type": "execute_result",
          "data": {
            "text/plain": [
              "3"
            ]
          },
          "metadata": {},
          "execution_count": 1
        }
      ]
    },
    {
      "cell_type": "code",
      "source": [
        "#위 람다 함수와 동일한 일반함수\n",
        "def add(a,b):\n",
        "    return a+b\n",
        "result =add(1,2)\n",
        "result"
      ],
      "metadata": {
        "colab": {
          "base_uri": "https://localhost:8080/"
        },
        "id": "URWKppGrrSJA",
        "outputId": "42a927a0-cd7b-492c-f3a0-e823099cf1cc"
      },
      "execution_count": 6,
      "outputs": [
        {
          "output_type": "execute_result",
          "data": {
            "text/plain": [
              "3"
            ]
          },
          "metadata": {},
          "execution_count": 6
        }
      ]
    },
    {
      "cell_type": "code",
      "source": [
        "f=open('filetest.txt', 'w')\n",
        "f.close()"
      ],
      "metadata": {
        "id": "qxQ4SfuxrlDR"
      },
      "execution_count": 7,
      "outputs": []
    },
    {
      "cell_type": "code",
      "source": [
        "f=open('filetest.txt', 'w')\n",
        "\n",
        "for i in range(1,11):\n",
        "  data = f'{i}번째 줄입니다.\\n'\n",
        "  f.write(data)\n",
        "f.close()"
      ],
      "metadata": {
        "id": "B2DgazkZvoAZ"
      },
      "execution_count": 8,
      "outputs": []
    },
    {
      "cell_type": "code",
      "source": [
        "f= open('filetest.txt','r')\n",
        "line =f.readlines()\n",
        "print(line)\n",
        "\n",
        "f.close()"
      ],
      "metadata": {
        "colab": {
          "base_uri": "https://localhost:8080/"
        },
        "id": "HQD87_uvwkPR",
        "outputId": "0635c68d-0146-4504-f6a4-a10674b70a41"
      },
      "execution_count": 10,
      "outputs": [
        {
          "output_type": "stream",
          "name": "stdout",
          "text": [
            "['1번째 줄입니다.\\n', '2번째 줄입니다.\\n', '3번째 줄입니다.\\n', '4번째 줄입니다.\\n', '5번째 줄입니다.\\n', '6번째 줄입니다.\\n', '7번째 줄입니다.\\n', '8번째 줄입니다.\\n', '9번째 줄입니다.\\n', '10번째 줄입니다.\\n']\n"
          ]
        }
      ]
    },
    {
      "cell_type": "code",
      "source": [
        "f= open('filetest.txt','r')\n",
        "line =f.readline()\n",
        "print(line)\n",
        "\n",
        "f.close()"
      ],
      "metadata": {
        "colab": {
          "base_uri": "https://localhost:8080/"
        },
        "id": "h2Vcg6DE10fg",
        "outputId": "940987a9-a157-41fc-a867-941ff053e11d"
      },
      "execution_count": 12,
      "outputs": [
        {
          "output_type": "stream",
          "name": "stdout",
          "text": [
            "1번째 줄입니다.\n",
            "\n"
          ]
        }
      ]
    },
    {
      "cell_type": "code",
      "source": [
        "f= open('filetest.txt','r')\n",
        "\n",
        "while True:\n",
        "  line = f.readline()\n",
        "  if not line:\n",
        "    break\n",
        "  print(line)\n",
        "f.close()  "
      ],
      "metadata": {
        "colab": {
          "base_uri": "https://localhost:8080/"
        },
        "id": "aXa7z8KD3Hio",
        "outputId": "7be2fad7-bf88-4bfc-f0d8-e512475a36c6"
      },
      "execution_count": 13,
      "outputs": [
        {
          "output_type": "stream",
          "name": "stdout",
          "text": [
            "1번째 줄입니다.\n",
            "\n",
            "2번째 줄입니다.\n",
            "\n",
            "3번째 줄입니다.\n",
            "\n",
            "4번째 줄입니다.\n",
            "\n",
            "5번째 줄입니다.\n",
            "\n",
            "6번째 줄입니다.\n",
            "\n",
            "7번째 줄입니다.\n",
            "\n",
            "8번째 줄입니다.\n",
            "\n",
            "9번째 줄입니다.\n",
            "\n",
            "10번째 줄입니다.\n",
            "\n"
          ]
        }
      ]
    },
    {
      "cell_type": "code",
      "source": [
        "buy=['로스웰 900260', 'KODEX 200선물인버스 252670', 'TS트릴리온 317240']\n",
        "\n",
        "f=open('매수종목.txt', 'w')\n",
        "\n",
        "for i in buy:\n",
        "  f.write(i)\n",
        "  f.write('\\n')\n",
        "f.close()"
      ],
      "metadata": {
        "id": "RMrHS43L4qX0"
      },
      "execution_count": 29,
      "outputs": []
    },
    {
      "cell_type": "code",
      "source": [
        "with open('filetest.txt','a') as f:\n",
        "  for i in range(11,21):\n",
        "    data=f'{i}\\n'\n",
        "    f.write(data)"
      ],
      "metadata": {
        "id": "LB5EOZHn8O_p"
      },
      "execution_count": 25,
      "outputs": []
    },
    {
      "cell_type": "code",
      "source": [
        "#작성 방법 2 - 딕셔너리\n",
        "stocks = {'로스웰':900260,'KODEX':252670, 'TS트릴리온':317240}\n",
        "with open('매수종목.txt','w') as s:\n",
        "  for i, j in stocks.items():\n",
        "    data =f'{i}:{j}\\n'\n",
        "    s.write(data)"
      ],
      "metadata": {
        "id": "Um2Rq8Xe9o9x"
      },
      "execution_count": 31,
      "outputs": []
    },
    {
      "cell_type": "code",
      "source": [
        "#매수종목.txt를 읽고 종목명과 코드를 리스트로 만들어보기\n",
        "\n",
        "with open('매수종목.txt','r') as f:\n",
        "  list1 = f.readlines()\n",
        "\n",
        "  for i in list1:\n",
        "    print(i)\n",
        "\n",
        "print(list1)\n",
        "type(list1)"
      ],
      "metadata": {
        "colab": {
          "base_uri": "https://localhost:8080/"
        },
        "id": "_17dnNjfDyNS",
        "outputId": "6a42959c-4675-4fbd-f1ac-d439c0cc7843"
      },
      "execution_count": 45,
      "outputs": [
        {
          "output_type": "stream",
          "name": "stdout",
          "text": [
            "로스웰:900260\n",
            "\n",
            "KODEX:252670\n",
            "\n",
            "TS트릴리온:317240\n",
            "\n",
            "['로스웰:900260\\n', 'KODEX:252670\\n', 'TS트릴리온:317240\\n']\n"
          ]
        },
        {
          "output_type": "execute_result",
          "data": {
            "text/plain": [
              "list"
            ]
          },
          "metadata": {},
          "execution_count": 45
        }
      ]
    },
    {
      "cell_type": "code",
      "source": [
        "#매수종목.txt를 읽고 종목명과 코드를 딕셔너리로 만들어보기\n",
        "dic1 = {}\n",
        "with open(\"매수종목.txt\") as f:\n",
        "    for line in f:\n",
        "       (i,j) = line.split(':')\n",
        "       k=j[0:6]\n",
        "       dic1[i] = k\n",
        "print(dic1)\n",
        "type(dic1)"
      ],
      "metadata": {
        "colab": {
          "base_uri": "https://localhost:8080/"
        },
        "id": "-YMUFPtmNCW1",
        "outputId": "12bda7b9-654d-455a-eeed-59b680a164cd"
      },
      "execution_count": 92,
      "outputs": [
        {
          "output_type": "stream",
          "name": "stdout",
          "text": [
            "{'로스웰': '900260', 'KODEX': '252670', 'TS트릴리온': '317240'}\n"
          ]
        },
        {
          "output_type": "execute_result",
          "data": {
            "text/plain": [
              "dict"
            ]
          },
          "metadata": {},
          "execution_count": 92
        }
      ]
    },
    {
      "cell_type": "code",
      "source": [
        "j='900260\\n'\n",
        "k=j[0:6]\n",
        "k"
      ],
      "metadata": {
        "colab": {
          "base_uri": "https://localhost:8080/",
          "height": 35
        },
        "id": "VBEJkYVUGocR",
        "outputId": "286a8674-8440-4919-894b-0e6a889ecec9"
      },
      "execution_count": 93,
      "outputs": [
        {
          "output_type": "execute_result",
          "data": {
            "application/vnd.google.colaboratory.intrinsic+json": {
              "type": "string"
            },
            "text/plain": [
              "'900260'"
            ]
          },
          "metadata": {},
          "execution_count": 93
        }
      ]
    },
    {
      "cell_type": "code",
      "source": [
        "dic1 = {}\n",
        "with open(\"매수종목.txt\") as f:\n",
        "    for line in f:\n",
        "       (i,j) = line.split(':')\n",
        "       j.strip()\n",
        "       dic1[i] = k\n",
        "print(dic1)\n",
        "type(dic1)"
      ],
      "metadata": {
        "colab": {
          "base_uri": "https://localhost:8080/"
        },
        "id": "q6qRJRSWTgq_",
        "outputId": "924d2bb7-009a-4a62-9062-6aaaa8a98a67"
      },
      "execution_count": 94,
      "outputs": [
        {
          "output_type": "stream",
          "name": "stdout",
          "text": [
            "{'로스웰': '900260', 'KODEX': '900260', 'TS트릴리온': '900260'}\n"
          ]
        },
        {
          "output_type": "execute_result",
          "data": {
            "text/plain": [
              "dict"
            ]
          },
          "metadata": {},
          "execution_count": 94
        }
      ]
    },
    {
      "cell_type": "code",
      "source": [
        "dic1 = {}\n",
        "with open(\"매수종목.txt\") as f:\n",
        "    for line in f:\n",
        "       (i,j) = line.strip().split(':')\n",
        "       dic1[i] = k\n",
        "print(dic1)\n",
        "type(dic1)"
      ],
      "metadata": {
        "colab": {
          "base_uri": "https://localhost:8080/"
        },
        "id": "uKPQIMGnWbQa",
        "outputId": "4d63c161-7feb-4698-8e3f-4e1c78672246"
      },
      "execution_count": 96,
      "outputs": [
        {
          "output_type": "stream",
          "name": "stdout",
          "text": [
            "{'로스웰': '900260', 'KODEX': '900260', 'TS트릴리온': '900260'}\n"
          ]
        },
        {
          "output_type": "execute_result",
          "data": {
            "text/plain": [
              "dict"
            ]
          },
          "metadata": {},
          "execution_count": 96
        }
      ]
    },
    {
      "cell_type": "code",
      "source": [
        ""
      ],
      "metadata": {
        "id": "sjSdzGepYsnq"
      },
      "execution_count": null,
      "outputs": []
    }
  ]
}